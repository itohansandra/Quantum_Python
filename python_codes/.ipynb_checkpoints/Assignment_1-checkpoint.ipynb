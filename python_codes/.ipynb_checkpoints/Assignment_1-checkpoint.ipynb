{
 "cells": [
  {
   "cell_type": "markdown",
   "id": "7a7953a8",
   "metadata": {},
   "source": [
    "# Question\n",
    "BMI --> BODY MASS INDEX range of value that constitutes high, low and average\n"
   ]
  },
  {
   "cell_type": "code",
   "execution_count": 2,
   "id": "1ae602b5",
   "metadata": {},
   "outputs": [
    {
     "name": "stdout",
     "output_type": "stream",
     "text": [
      "Enter your height in cm: 546\n",
      "Enter your weight in kg: 657\n",
      "You BMI is 22.03840115928028\n",
      "You are average.\n"
     ]
    }
   ],
   "source": [
    "\n",
    "\n",
    "height = float(input(\"Enter your height in cm: \"))\n",
    "weight = float(input(\"Enter your weight in kg: \"))\n",
    "\n",
    "BMI = weight / (height/100)**2 \n",
    "\n",
    "print(f\"You BMI is {BMI}\") \n",
    "\n",
    "if BMI <= 18.4:\n",
    "    print(\"You are  low.\")\n",
    "elif BMI <= 24.9:\n",
    "    print(\"You are average.\")\n",
    "elif BMI <= 29.9: \n",
    "    print(\"You are over high.\")\n",
    "elif BMI <= 34.9:\n",
    "    print(\"You are severely over weight.\")\n",
    "elif BMI <= 39.9:\n",
    "    print(\"You are obesity.\")\n",
    "else:\n",
    "    print(\"You are severely obesity.\")"
   ]
  },
  {
   "cell_type": "code",
   "execution_count": null,
   "id": "a081419f",
   "metadata": {},
   "outputs": [],
   "source": []
  }
 ],
 "metadata": {
  "kernelspec": {
   "display_name": "Python 3 (ipykernel)",
   "language": "python",
   "name": "python3"
  },
  "language_info": {
   "codemirror_mode": {
    "name": "ipython",
    "version": 3
   },
   "file_extension": ".py",
   "mimetype": "text/x-python",
   "name": "python",
   "nbconvert_exporter": "python",
   "pygments_lexer": "ipython3",
   "version": "3.9.7"
  }
 },
 "nbformat": 4,
 "nbformat_minor": 5
}
