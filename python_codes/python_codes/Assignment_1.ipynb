{
 "cells": [
  {
   "cell_type": "markdown",
   "id": "7a7953a8",
   "metadata": {},
   "source": [
    "# Question\n",
    "BMI --> BODY MASS INDEX range of value that constitutes high, low and average\n"
   ]
  },
  {
   "cell_type": "code",
   "execution_count": 2,
   "id": "1ae602b5",
   "metadata": {},
   "outputs": [
    {
     "name": "stdout",
     "output_type": "stream",
     "text": [
      "Enter your height in cm: 546\n",
      "Enter your weight in kg: 657\n",
      "You BMI is 22.03840115928028\n",
      "You are average.\n"
     ]
    }
   ],
   "source": [
    "\n",
    "\n",
    "height = float(input(\"Enter your height in cm: \"))\n",
    "weight = float(input(\"Enter your weight in kg: \"))\n",
    "\n",
    "BMI = weight / (height/100)**2 \n",
    "\n",
    "print(f\"You BMI is {BMI}\") \n",
    "\n",
    "if BMI <= 18.4:\n",
    "    print(\"You are  low.\")\n",
    "elif BMI <= 24.9:\n",
    "    print(\"You are average.\")\n",
    "elif BMI <= 29.9: \n",
    "    print(\"You are over high.\")\n",
    "elif BMI <= 34.9:\n",
    "    print(\"You are severely over weight.\")\n",
    "elif BMI <= 39.9:\n",
    "    print(\"You are obesity.\")\n",
    "else:\n",
    "    print(\"You are severely obesity.\")"
   ]
  },
  {
   "cell_type": "code",
   "execution_count": 3,
   "id": "a081419f",
   "metadata": {},
   "outputs": [
    {
     "name": "stdout",
     "output_type": "stream",
     "text": [
      "enter weight value: 45\n",
      "enter height value: 35\n",
      "enter unit for weight: n\n",
      "enter unit for height: m\n",
      "this is my bmi value = 0.003673469387755102 and it is low\n"
     ]
    }
   ],
   "source": [
    "weight = float(input(\"enter weight value: \"))\n",
    "height = float(input(\"enter height value: \"))\n",
    "unit_weight = input(\"enter unit for weight: \").lower()\n",
    "unit_height = input(\"enter unit for height: \").lower()\n",
    "bmi = (weight/10)/(height**2)\n",
    "\n",
    "if unit_weight == \"n\" and unit_height == \"m\":\n",
    "    if bmi >=25:\n",
    "        print(f\"my bmi is {bmi} and it is high!\")\n",
    "    elif bmi >=18 and bmi<= 24.9:\n",
    "        print(f\"my bmis is {bmi} and itis average\")\n",
    "    else:\n",
    "        print(f\"this is my bmi value = {bmi} and it is low\")\n",
    "\n",
    "\n",
    "else:\n",
    "    print(\"Unit not defined in the program!\")\n",
    "        \n",
    "# if unit_weight == \"p\" and unit_height == \"ft\":\n",
    "#     if bmi >=29:\n",
    "#         print(\"your bmi is high\")\n",
    "#     elif bmi >=15 and bmi<= 28:\n",
    "#         print(\"your bmi is average\")\n",
    "#     else:\n",
    "#         print(f\"this is my bmi value = {bmi} and it is low\")"
   ]
  },
  {
   "cell_type": "code",
   "execution_count": 4,
   "id": "f41a0157",
   "metadata": {},
   "outputs": [
    {
     "name": "stdout",
     "output_type": "stream",
     "text": [
      "enter weight value (kg): 48\n",
      "enter height value(m): 57\n",
      "enter unit for weight: p\n",
      "enter unit for height: ft\n",
      "0.003025876696227545\n"
     ]
    }
   ],
   "source": [
    "weight = float(input(\"enter weight value (kg): \"))\n",
    "height = float(input(\"enter height value(m): \"))\n",
    "unit_weight = input(\"enter unit for weight: \").lower()\n",
    "unit_height = input(\"enter unit for height: \").lower()\n",
    "##bmi = (weight/10)/(height**2)\n",
    "\n",
    "if unit_weight == \"n\" and unit_height == \"m\":\n",
    "    bmi = (weight*10)/(height**2)\n",
    "    if bmi >=25:\n",
    "        print(f\"my bmi is {bmi} and it is high!\")\n",
    "    elif bmi >=18 and bmi<= 24.9:\n",
    "        print(f\"my bmis is {bmi} and itis average\")\n",
    "    else:\n",
    "        print(f\"this is my bmi value = {bmi} and it is low\")\n",
    "    \n",
    "##Convert     \n",
    "elif unit_weight == \"p\" and unit_height == \"ft\":\n",
    "    bmi = (weight * 2.2046) / ((height*3.28084)**2)\n",
    "    print(f\"{bmi}\")\n",
    "    \n",
    "else:\n",
    "    print(\"Unit not defined in the program!\")\n",
    "    "
   ]
  },
  {
   "cell_type": "markdown",
   "id": "cf46db04",
   "metadata": {},
   "source": [
    "# Assignment_2"
   ]
  },
  {
   "cell_type": "raw",
   "id": "685e4cd4",
   "metadata": {},
   "source": [
    "1.lists = [11, 10, 8, 12, 1, 5, 6, 8, 10, 1, 8, 22, 8, 7, 4]\n",
    "get the index values of 8.\n",
    " get all the values after the second index value of 8.\n",
    "\n",
    "2.get all the food that start with a and store it inside and array\n",
    "  foods = [\"apple\", \"quava\", \"gari\", \"beans\", \"accara\", \"acute-bones\"]"
   ]
  },
  {
   "cell_type": "code",
   "execution_count": 5,
   "id": "f0187e61",
   "metadata": {},
   "outputs": [
    {
     "name": "stdout",
     "output_type": "stream",
     "text": [
      "[11, 10, 8, 12, 1, 5, 6, 8, 10, 1, 8, 22, 8, 7, 4]\n"
     ]
    }
   ],
   "source": [
    "lists = [11, 10, 8, 12, 1, 5, 6, 8, 10, 1, 8, 22, 8, 7, 4]\n",
    "print(lists)"
   ]
  },
  {
   "cell_type": "code",
   "execution_count": 6,
   "id": "345b7c2d",
   "metadata": {},
   "outputs": [
    {
     "name": "stdout",
     "output_type": "stream",
     "text": [
      "(0, 11)\n",
      "(1, 10)\n",
      "(2, 8)\n",
      "(3, 12)\n",
      "(4, 1)\n",
      "(5, 5)\n",
      "(6, 6)\n",
      "(7, 8)\n",
      "(8, 10)\n",
      "(9, 1)\n",
      "(10, 8)\n",
      "(11, 22)\n",
      "(12, 8)\n",
      "(13, 7)\n",
      "(14, 4)\n"
     ]
    }
   ],
   "source": [
    "for i in enumerate(lists):\n",
    "    print(i)"
   ]
  },
  {
   "cell_type": "code",
   "execution_count": 7,
   "id": "d98bb974",
   "metadata": {},
   "outputs": [
    {
     "name": "stdout",
     "output_type": "stream",
     "text": [
      "0 11\n",
      "1 10\n",
      "2 8\n",
      "3 12\n",
      "4 1\n",
      "5 5\n",
      "6 6\n",
      "7 8\n",
      "8 10\n",
      "9 1\n",
      "10 8\n",
      "11 22\n",
      "12 8\n",
      "13 7\n",
      "14 4\n"
     ]
    }
   ],
   "source": [
    "for i, b in enumerate(lists):\n",
    "    print(i, b)"
   ]
  },
  {
   "cell_type": "code",
   "execution_count": 8,
   "id": "76bededc",
   "metadata": {},
   "outputs": [
    {
     "name": "stdout",
     "output_type": "stream",
     "text": [
      "2\n",
      "7\n",
      "10\n",
      "12\n"
     ]
    }
   ],
   "source": [
    "for i, b in enumerate(lists):\n",
    "    if b == 8:\n",
    "        print(i)"
   ]
  },
  {
   "cell_type": "code",
   "execution_count": 9,
   "id": "b323f5ad",
   "metadata": {},
   "outputs": [
    {
     "name": "stdout",
     "output_type": "stream",
     "text": [
      "[2, 7, 10, 12]\n"
     ]
    }
   ],
   "source": [
    "index_val = []\n",
    "for i, b in enumerate(lists):\n",
    "    if b == 8:\n",
    "        index_val.append(i)\n",
    "print(index_val)"
   ]
  },
  {
   "cell_type": "code",
   "execution_count": 10,
   "id": "b1e6674d",
   "metadata": {},
   "outputs": [
    {
     "data": {
      "text/plain": [
       "10"
      ]
     },
     "execution_count": 10,
     "metadata": {},
     "output_type": "execute_result"
    }
   ],
   "source": [
    "index_val[2]"
   ]
  },
  {
   "cell_type": "code",
   "execution_count": 11,
   "id": "0b6053e5",
   "metadata": {},
   "outputs": [
    {
     "data": {
      "text/plain": [
       "[10, 1, 8, 22]"
      ]
     },
     "execution_count": 11,
     "metadata": {},
     "output_type": "execute_result"
    }
   ],
   "source": [
    "lists[index_val[1]+1:index_val[3]]"
   ]
  },
  {
   "cell_type": "code",
   "execution_count": 12,
   "id": "e9ddd1d9",
   "metadata": {},
   "outputs": [
    {
     "name": "stdout",
     "output_type": "stream",
     "text": [
      "0 apple\n",
      "1 quava\n",
      "2 gari\n",
      "3 beans\n",
      "4 accara\n",
      "5 acute-bones\n"
     ]
    }
   ],
   "source": [
    "foods = [\"apple\", \"quava\", \"gari\", \"beans\", \"accara\", \"acute-bones\"]\n",
    "for i, b in enumerate(foods):\n",
    "    print(i, b)"
   ]
  },
  {
   "cell_type": "code",
   "execution_count": 13,
   "id": "4b0d9490",
   "metadata": {},
   "outputs": [
    {
     "name": "stdout",
     "output_type": "stream",
     "text": [
      "['apple', 'accara', 'acute-bones']\n"
     ]
    }
   ],
   "source": [
    "a_foods = []\n",
    "for i in range(len(foods)):\n",
    "    pos = foods[i]\n",
    "    if pos[0] == \"a\":\n",
    "        a_foods.append(pos)\n",
    "print(a_foods)"
   ]
  },
  {
   "cell_type": "raw",
   "id": "e7a467e7",
   "metadata": {},
   "source": [
    " if v is found in any of the food, print the food\n"
   ]
  },
  {
   "cell_type": "code",
   "execution_count": 17,
   "id": "e037ec52",
   "metadata": {},
   "outputs": [
    {
     "name": "stdout",
     "output_type": "stream",
     "text": [
      "quava\n"
     ]
    }
   ],
   "source": [
    "for i in foods:\n",
    "    if \"v\" in i:\n",
    "        print(i)"
   ]
  },
  {
   "cell_type": "raw",
   "id": "b9aebe31",
   "metadata": {},
   "source": [
    "arry = [\"tobi\", \"Caleb\", \"camy\", \"samCy\"]\n",
    "#get all the elements that has c in it"
   ]
  },
  {
   "cell_type": "code",
   "execution_count": 18,
   "id": "66c755bb",
   "metadata": {},
   "outputs": [
    {
     "name": "stdout",
     "output_type": "stream",
     "text": [
      "camy\n"
     ]
    }
   ],
   "source": [
    "arry = [\"tobi\", \"Caleb\", \"camy\", \"samCy\"]\n",
    "for i in arry:\n",
    "    if \"c\" in i:\n",
    "        print(i)"
   ]
  },
  {
   "cell_type": "code",
   "execution_count": 19,
   "id": "a144fe64",
   "metadata": {},
   "outputs": [
    {
     "name": "stdout",
     "output_type": "stream",
     "text": [
      "0 tobi\n",
      "1 Caleb\n",
      "2 camy\n",
      "3 samCy\n"
     ]
    }
   ],
   "source": [
    "rry = [\"tobi\", \"Caleb\", \"camy\", \"samCy\"]\n",
    "\n",
    "for i, b in enumerate(arry):\n",
    "    print(i,b)"
   ]
  },
  {
   "cell_type": "code",
   "execution_count": 20,
   "id": "0ed148c1",
   "metadata": {},
   "outputs": [
    {
     "name": "stdout",
     "output_type": "stream",
     "text": [
      "['tobi', 'caleb', 'camy', 'samcy']\n"
     ]
    }
   ],
   "source": [
    "arry = [\"tobi\", \"Caleb\", \"camy\", \"samCy\"]\n",
    "arry_name = []\n",
    "for i in arry:\n",
    "    a = i.lower()\n",
    "    arry_name.append(a)\n",
    "print(arry_name)"
   ]
  },
  {
   "cell_type": "code",
   "execution_count": 21,
   "id": "fa5c5808",
   "metadata": {},
   "outputs": [
    {
     "name": "stdout",
     "output_type": "stream",
     "text": [
      "Caleb\n",
      "camy\n",
      "samCy\n"
     ]
    }
   ],
   "source": [
    "arry = [\"tobi\", \"Caleb\", \"camy\", \"samCy\"]\n",
    "for i in range(0, len(arry)):\n",
    "    if \"c\" in arry_name[i]:\n",
    "        print(arry[i])"
   ]
  },
  {
   "cell_type": "code",
   "execution_count": null,
   "id": "e65a94ec",
   "metadata": {},
   "outputs": [],
   "source": []
  }
 ],
 "metadata": {
  "kernelspec": {
   "display_name": "Python 3 (ipykernel)",
   "language": "python",
   "name": "python3"
  },
  "language_info": {
   "codemirror_mode": {
    "name": "ipython",
    "version": 3
   },
   "file_extension": ".py",
   "mimetype": "text/x-python",
   "name": "python",
   "nbconvert_exporter": "python",
   "pygments_lexer": "ipython3",
   "version": "3.9.7"
  }
 },
 "nbformat": 4,
 "nbformat_minor": 5
}
