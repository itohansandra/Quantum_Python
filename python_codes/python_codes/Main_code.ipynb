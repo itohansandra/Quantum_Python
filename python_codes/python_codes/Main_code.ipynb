{
 "cells": [
  {
   "cell_type": "code",
   "execution_count": 1,
   "id": "3aff6857",
   "metadata": {},
   "outputs": [
    {
     "name": "stdout",
     "output_type": "stream",
     "text": [
      "Hello class\n"
     ]
    }
   ],
   "source": [
    "print(\"Hello class\")"
   ]
  },
  {
   "cell_type": "code",
   "execution_count": 2,
   "id": "cc758063",
   "metadata": {},
   "outputs": [
    {
     "name": "stdout",
     "output_type": "stream",
     "text": [
      "<class 'str'>\n"
     ]
    }
   ],
   "source": [
    "print(type(\"hello class!\"))"
   ]
  },
  {
   "cell_type": "code",
   "execution_count": 3,
   "id": "ed4f00d5",
   "metadata": {},
   "outputs": [
    {
     "name": "stdout",
     "output_type": "stream",
     "text": [
      "my name is jake and i am 5 years old!\n"
     ]
    }
   ],
   "source": [
    "print(\"my name is jake and i am 5 years old!\")"
   ]
  },
  {
   "cell_type": "code",
   "execution_count": 4,
   "id": "8b1922f0",
   "metadata": {},
   "outputs": [
    {
     "name": "stdout",
     "output_type": "stream",
     "text": [
      "1051\n"
     ]
    }
   ],
   "source": [
    "print(\"10\" + \"51\")"
   ]
  },
  {
   "cell_type": "code",
   "execution_count": 5,
   "id": "aad77101",
   "metadata": {},
   "outputs": [
    {
     "name": "stdout",
     "output_type": "stream",
     "text": [
      "13.9\n"
     ]
    }
   ],
   "source": [
    "print(10.9 + 3)"
   ]
  },
  {
   "cell_type": "code",
   "execution_count": 6,
   "id": "c15ceda8",
   "metadata": {},
   "outputs": [
    {
     "name": "stdout",
     "output_type": "stream",
     "text": [
      "True\n"
     ]
    }
   ],
   "source": [
    "print(5==5)"
   ]
  },
  {
   "cell_type": "code",
   "execution_count": 7,
   "id": "06212303",
   "metadata": {},
   "outputs": [
    {
     "name": "stdout",
     "output_type": "stream",
     "text": [
      "True\n"
     ]
    }
   ],
   "source": [
    "print(10==(2*5))"
   ]
  },
  {
   "cell_type": "code",
   "execution_count": 8,
   "id": "8d2899fb",
   "metadata": {},
   "outputs": [
    {
     "name": "stdout",
     "output_type": "stream",
     "text": [
      "<class 'str'>\n"
     ]
    }
   ],
   "source": [
    "print(type(\"true\"))"
   ]
  },
  {
   "cell_type": "code",
   "execution_count": 9,
   "id": "c7c77500",
   "metadata": {},
   "outputs": [
    {
     "name": "stdout",
     "output_type": "stream",
     "text": [
      "<class 'bool'>\n"
     ]
    }
   ],
   "source": [
    "print(type(True))"
   ]
  },
  {
   "cell_type": "code",
   "execution_count": 10,
   "id": "dfecdb2d",
   "metadata": {},
   "outputs": [
    {
     "name": "stdout",
     "output_type": "stream",
     "text": [
      "<class 'float'>\n"
     ]
    }
   ],
   "source": [
    "print(type(10.01))"
   ]
  },
  {
   "cell_type": "code",
   "execution_count": 11,
   "id": "0aafef34",
   "metadata": {},
   "outputs": [
    {
     "name": "stdout",
     "output_type": "stream",
     "text": [
      "enter name: peter\n",
      "enter age: 45\n",
      "My name is, peter and i am 45 years old!\n"
     ]
    }
   ],
   "source": [
    "name = input(\"enter name: \")\n",
    "age = input(\"enter age: \")\n",
    "print(f\"My name is, {name} and i am {age} years old!\")"
   ]
  },
  {
   "cell_type": "code",
   "execution_count": 12,
   "id": "5d3aa0b4",
   "metadata": {},
   "outputs": [
    {
     "name": "stdout",
     "output_type": "stream",
     "text": [
      "26.926\n"
     ]
    }
   ],
   "source": [
    "a = 10\n",
    "b = 25\n",
    "##pythagoras theorem\n",
    "c = ((a**2) + (b**2))**(1/2)\n",
    "print(round(c, 3))"
   ]
  },
  {
   "cell_type": "code",
   "execution_count": 13,
   "id": "25c008b9",
   "metadata": {},
   "outputs": [
    {
     "name": "stdout",
     "output_type": "stream",
     "text": [
      "1.5874010519681994\n"
     ]
    }
   ],
   "source": [
    "print(4**(1/3))"
   ]
  },
  {
   "cell_type": "code",
   "execution_count": 15,
   "id": "fdba5466",
   "metadata": {},
   "outputs": [
    {
     "name": "stdout",
     "output_type": "stream",
     "text": [
      "enter name: john\n",
      "enter year of birth: 1995\n",
      "my name is john and i am 28.0 years old\n"
     ]
    }
   ],
   "source": [
    "name = input(\"enter name: \")\n",
    "yb = float(input(\"enter year of birth: \"))\n",
    "print(f\"my name is {name} and i am {2023-yb} years old\")"
   ]
  },
  {
   "cell_type": "markdown",
   "id": "da6d1237",
   "metadata": {},
   "source": [
    "# Conditionals"
   ]
  },
  {
   "cell_type": "code",
   "execution_count": 16,
   "id": "e6bc7578",
   "metadata": {},
   "outputs": [
    {
     "name": "stdout",
     "output_type": "stream",
     "text": [
      "enter tempearture value: 34\n",
      "tempertaure is high\n"
     ]
    }
   ],
   "source": [
    "temp = float(input(\"enter tempearture value: \"))\n",
    "\n",
    "if temp > 20:\n",
    "    print(\"tempertaure is high\")\n",
    "elif temp >=10 and temp <= 19:\n",
    "    print(\"temperature is moderate\")\n",
    "elif temp >=1 and temp <=9:\n",
    "    print(\"temperature is quite low\")\n",
    "elif temp <= 0:\n",
    "    print(\"extremeley deadly temperature\")\n",
    "else:\n",
    "    print(\"input not understood\")"
   ]
  },
  {
   "cell_type": "code",
   "execution_count": 17,
   "id": "7ed93c91",
   "metadata": {},
   "outputs": [
    {
     "name": "stdout",
     "output_type": "stream",
     "text": [
      "enter age: 45\n",
      "enter sex: m\n",
      "an adult male\n"
     ]
    }
   ],
   "source": [
    "age = int(input(\"enter age: \"))\n",
    "sex = input(\"enter sex: \").lower()\n",
    "\n",
    "if age >= 20:\n",
    "    if sex == \"f\":\n",
    "        print(\"an adult female\")\n",
    "    elif sex == \"m\":\n",
    "        print(\"an adult male\")\n",
    "        \n",
    "elif age >= 13 and age <= 19:\n",
    "    if sex == \"f\":\n",
    "        print(\"a teenage female\")\n",
    "    elif sex == \"m\":\n",
    "        print(\"a teenage male\")\n",
    "        \n",
    "elif age <= 12:\n",
    "    if sex == \"f\":\n",
    "        print(\"a child female\")\n",
    "    elif sex == \"m\":\n",
    "        print(\"a child male\")\n",
    "        \n",
    "else:\n",
    "    print(\"No input available\")"
   ]
  },
  {
   "cell_type": "markdown",
   "id": "7864c469",
   "metadata": {},
   "source": [
    "# Temperature conversion program"
   ]
  },
  {
   "cell_type": "code",
   "execution_count": 18,
   "id": "aaf50eb4",
   "metadata": {},
   "outputs": [
    {
     "name": "stdout",
     "output_type": "stream",
     "text": [
      "enter temperature value here: 5\n",
      "enter unit->f/c: c\n",
      "the temperature value of 5.0 celcius is 41.0 fahrenheit\n"
     ]
    }
   ],
   "source": [
    "temp_value = float(input(\"enter temperature value here: \"))\n",
    "unit = input(\"enter unit->f/c: \").lower()\n",
    "\n",
    "if unit == \"f\":\n",
    "    temp = (temp_value - 32) * (5/9)\n",
    "    if temp <= 100:\n",
    "        kel = 273 + temp\n",
    "        print(f\"the temperature value of {temp_value} fahrenhiet is {round(kel, 3)} kelvin\")\n",
    "    else:\n",
    "        print(f\"the temperature value of {temp_value} fahrenhiet is {round(temp, 3)} celcuis\")\n",
    "        \n",
    "elif unit == \"c\":\n",
    "    temp = (temp_value * (9/5)) + 32\n",
    "    print(f\"the temperature value of {temp_value} celcius is {round(temp, 3)} fahrenheit\")\n",
    "else:\n",
    "    print(\"input not understood\")"
   ]
  },
  {
   "cell_type": "markdown",
   "id": "ae8db41f",
   "metadata": {},
   "source": [
    "# List and Arrays"
   ]
  },
  {
   "cell_type": "code",
   "execution_count": 19,
   "id": "698dac57",
   "metadata": {},
   "outputs": [],
   "source": [
    "#x = True\n",
    "b = [\"ada\", \"tobi\", 25, True, False, \"james\", \"pedro\"]"
   ]
  },
  {
   "cell_type": "code",
   "execution_count": 20,
   "id": "92db1739",
   "metadata": {},
   "outputs": [
    {
     "data": {
      "text/plain": [
       "5"
      ]
     },
     "execution_count": 20,
     "metadata": {},
     "output_type": "execute_result"
    }
   ],
   "source": [
    "len(b[5])"
   ]
  },
  {
   "cell_type": "code",
   "execution_count": 21,
   "id": "d29485b2",
   "metadata": {},
   "outputs": [
    {
     "data": {
      "text/plain": [
       "[25, True, False, 'james', 'pedro']"
      ]
     },
     "execution_count": 21,
     "metadata": {},
     "output_type": "execute_result"
    }
   ],
   "source": [
    "b[2:]"
   ]
  },
  {
   "cell_type": "code",
   "execution_count": 22,
   "id": "5411aca8",
   "metadata": {},
   "outputs": [
    {
     "name": "stdout",
     "output_type": "stream",
     "text": [
      "<class 'list'>\n"
     ]
    }
   ],
   "source": [
    "print(type(b))"
   ]
  },
  {
   "cell_type": "code",
   "execution_count": 23,
   "id": "026f05a5",
   "metadata": {},
   "outputs": [
    {
     "data": {
      "text/plain": [
       "5"
      ]
     },
     "execution_count": 23,
     "metadata": {},
     "output_type": "execute_result"
    }
   ],
   "source": [
    "index_values = b.index(\"james\")\n",
    "index_values"
   ]
  },
  {
   "cell_type": "code",
   "execution_count": 24,
   "id": "d3285656",
   "metadata": {},
   "outputs": [
    {
     "name": "stdout",
     "output_type": "stream",
     "text": [
      "['ada', 'tobi', 25, True, False, 'james', 'pedro']\n"
     ]
    }
   ],
   "source": [
    "print(b)"
   ]
  },
  {
   "cell_type": "code",
   "execution_count": 25,
   "id": "920a142c",
   "metadata": {},
   "outputs": [
    {
     "name": "stdout",
     "output_type": "stream",
     "text": [
      "[True, False, 'james', 'pedro']\n"
     ]
    }
   ],
   "source": [
    "pos = b.index(25)\n",
    "after = b[pos+1:]\n",
    "print(after)"
   ]
  },
  {
   "cell_type": "code",
   "execution_count": 26,
   "id": "57151825",
   "metadata": {},
   "outputs": [
    {
     "name": "stdout",
     "output_type": "stream",
     "text": [
      "['ada', 'tobi']\n"
     ]
    }
   ],
   "source": [
    "before =  b[:pos]\n",
    "print(before)"
   ]
  },
  {
   "cell_type": "markdown",
   "id": "351eaf65",
   "metadata": {},
   "source": [
    "# class work"
   ]
  },
  {
   "cell_type": "raw",
   "id": "68c9433a",
   "metadata": {},
   "source": [
    "1. if the age to vote is from 18 and above\n",
    "2. and the condition to vote requires a pvc\n",
    "write a program that ask users for their age and if they have pvc if they do, grant them access to vote if they dont do not grant them access to vote\n",
    "question 2\n",
    "if the person is qualified to vote\n",
    "if the person is from south, east they should vote obi if the person is from north, south west vote asiwju vote atiku"
   ]
  },
  {
   "cell_type": "code",
   "execution_count": 61,
   "id": "fb8d3ebe",
   "metadata": {},
   "outputs": [
    {
     "name": "stdout",
     "output_type": "stream",
     "text": [
      "please Enter your age here: 4\n",
      "Enter True or False: t\n",
      "access denied to vote!!!\n"
     ]
    }
   ],
   "source": [
    "age = int(input(\"please Enter your age here: \"))\n",
    "pvc = bool(input(\"Enter True or False: \"))\n",
    "t = True\n",
    "f = False\n",
    "if age > 17 and pvc == t:\n",
    "    \n",
    "    print(\"access granted to vote\")\n",
    "    \n",
    "elif age >18 and pc == f:\n",
    "   \n",
    "    print(\"access denied to vote\")\n",
    "    \n",
    "else:\n",
    "    print(\"access denied to vote!!!\")\n",
    "\n"
   ]
  },
  {
   "cell_type": "raw",
   "id": "5fb0683f",
   "metadata": {},
   "source": [
    "1. if the age to vote is from 18 and above\n",
    "2. and the condition to vote requires a pvc\n",
    "write a program that ask users for their age and if they have pvc if they do, grant them access to vote if they dont do not grant them access to vote\n",
    "question 2\n",
    "if the person is qualified to vote\n",
    "if the person is from south, east they should vote obi if the person is from north, south west vote asiwju vote atiku"
   ]
  },
  {
   "cell_type": "code",
   "execution_count": 28,
   "id": "ebd73f08",
   "metadata": {},
   "outputs": [
    {
     "name": "stdout",
     "output_type": "stream",
     "text": [
      "enter age: 45\n",
      "do you have a pvc?: no\n",
      "where is voter from?: south-west\n",
      "access denied to vote!!!\n"
     ]
    }
   ],
   "source": [
    "age = int(input(\"enter age: \"))\n",
    "pvc = input(\"do you have a pvc?: \")\n",
    "voter = input(\"where is voter from?: \")\n",
    "\n",
    "if age >= 18 and pvc == \"yes\":\n",
    "    if voter == \"south-south\" or voter == \"east\":\n",
    "        print(\"vote obi\")\n",
    "    elif voter == \"north\" or voter == \"south-west\":\n",
    "        print(\"vote asiwaju!!!\")\n",
    "    else:\n",
    "        print(\"vote atiku\")\n",
    "    \n",
    "elif age < 18 and pvc == \"no\":\n",
    "    print(\"access denied to vote\")\n",
    "else:\n",
    "    print(\"access denied to vote!!!\")"
   ]
  },
  {
   "cell_type": "raw",
   "id": "0ab6a331",
   "metadata": {},
   "source": [
    "- if change in temperature of a house defines the \"livability\" of a house\n",
    "define t1 as input\n",
    "define t2 as input\n",
    "calculate the temperature change\n",
    "\n",
    "- if the temp is less than 0 celcius\n",
    "define kelvin by adding temperature + 273\n",
    "if temperature is greater than 500 kelvin say temperature is extremely low\n",
    "if temperature is less than 500 kelvin say temperature is moderately low\n",
    "\n",
    "\n",
    "- if the temp is greater than 0 celcius, say temperature is too high"
   ]
  },
  {
   "cell_type": "code",
   "execution_count": 29,
   "id": "79e2ec83",
   "metadata": {},
   "outputs": [
    {
     "name": "stdout",
     "output_type": "stream",
     "text": [
      "enter t1: 4\n",
      "enter t2: 7\n",
      "3.0celcuis: temperature is too high\n"
     ]
    }
   ],
   "source": [
    "t1 = float(input(\"enter t1: \"))\n",
    "t2 = float(input(\"enter t2: \"))\n",
    "temp = t2-t1\n",
    "\n",
    "if temp < 0:\n",
    "    kelvin = temp + 273\n",
    "    if kelvin > 500:\n",
    "        print(f\"{kelvin}kelvin: temperature is extremely low\")\n",
    "    elif kelvin < 500:\n",
    "        print(f\"{kelvin}kelvin: temperature is moderrately low\")\n",
    "        \n",
    "elif temp > 0:\n",
    "    print(f\"{temp}celcuis: temperature is too high\")\n",
    "    \n",
    "else:\n",
    "    print(\"inputs not understood!!!\")"
   ]
  },
  {
   "cell_type": "markdown",
   "id": "0eaf20a8",
   "metadata": {},
   "source": [
    "# Arrays"
   ]
  },
  {
   "cell_type": "raw",
   "id": "1d0f3c8b",
   "metadata": {},
   "source": [
    "- sort()\n",
    "- append()"
   ]
  },
  {
   "cell_type": "code",
   "execution_count": 30,
   "id": "143d8bd2",
   "metadata": {},
   "outputs": [
    {
     "name": "stdout",
     "output_type": "stream",
     "text": [
      "[1, 3, 5, 10]\n"
     ]
    }
   ],
   "source": [
    "a = [1, 5, 10, 3]\n",
    "a.sort()\n",
    "print(a)"
   ]
  },
  {
   "cell_type": "code",
   "execution_count": 31,
   "id": "41fb84dc",
   "metadata": {},
   "outputs": [],
   "source": [
    "b = [6, 9, 10, 11]"
   ]
  },
  {
   "cell_type": "code",
   "execution_count": 32,
   "id": "91b39045",
   "metadata": {},
   "outputs": [
    {
     "name": "stdout",
     "output_type": "stream",
     "text": [
      "[1, 3, 5, 10, 6, 9, 10, 11]\n"
     ]
    }
   ],
   "source": [
    "c = a + b\n",
    "print(c)"
   ]
  },
  {
   "cell_type": "code",
   "execution_count": 33,
   "id": "4b54a682",
   "metadata": {},
   "outputs": [
    {
     "name": "stdout",
     "output_type": "stream",
     "text": [
      "[1, 3, 5, 10, 6, 9, 10, 11, True]\n"
     ]
    }
   ],
   "source": [
    "c.append(True)\n",
    "print(c)"
   ]
  },
  {
   "cell_type": "code",
   "execution_count": 34,
   "id": "44b49da5",
   "metadata": {},
   "outputs": [
    {
     "name": "stdout",
     "output_type": "stream",
     "text": [
      "[1, 3, 5, 10, 6, 9, 10, 11, True, [5, 10, 11]]\n"
     ]
    }
   ],
   "source": [
    "k = [5, 10, 11]\n",
    "c.append(k)\n",
    "print(c)"
   ]
  },
  {
   "cell_type": "markdown",
   "id": "e34638dd",
   "metadata": {},
   "source": [
    "# forloops"
   ]
  },
  {
   "cell_type": "code",
   "execution_count": 35,
   "id": "18cf6187",
   "metadata": {},
   "outputs": [
    {
     "name": "stdout",
     "output_type": "stream",
     "text": [
      "2\n",
      "4\n",
      "7\n",
      "9\n",
      "3\n",
      "1\n"
     ]
    }
   ],
   "source": [
    "arr = [2, 4, 7, 9, 3, 1]\n",
    "for i in arr:\n",
    "    print(i)"
   ]
  },
  {
   "cell_type": "code",
   "execution_count": 36,
   "id": "56a45e8c",
   "metadata": {},
   "outputs": [
    {
     "name": "stdout",
     "output_type": "stream",
     "text": [
      "7\n",
      "9\n",
      "3\n",
      "1\n"
     ]
    }
   ],
   "source": [
    "for i in arr:\n",
    "    if i%2 != 0:\n",
    "        print(i)"
   ]
  },
  {
   "cell_type": "code",
   "execution_count": 37,
   "id": "dd4aac84",
   "metadata": {},
   "outputs": [
    {
     "name": "stdout",
     "output_type": "stream",
     "text": [
      "[2, 4]\n"
     ]
    }
   ],
   "source": [
    "arr1 = []\n",
    "arr2 = []\n",
    "for i in arr:\n",
    "    if i%2 != 0:\n",
    "        arr1.append(i)\n",
    "    if i%2 == 0:\n",
    "        arr2.append(i)\n",
    "print(arr2)"
   ]
  },
  {
   "cell_type": "code",
   "execution_count": 38,
   "id": "5c052698",
   "metadata": {},
   "outputs": [
    {
     "name": "stdout",
     "output_type": "stream",
     "text": [
      "True\n",
      "False\n",
      "10\n",
      "15.5\n",
      "21\n",
      "janeth\n",
      "tobi\n",
      "9\n",
      "True\n"
     ]
    }
   ],
   "source": [
    "a = [True, False, 10, 15.5, 21, \"janeth\", \"tobi\", 9, True]\n",
    "\n",
    "for i in a:\n",
    "    print(i)"
   ]
  },
  {
   "cell_type": "code",
   "execution_count": 39,
   "id": "20f49879",
   "metadata": {},
   "outputs": [
    {
     "name": "stdout",
     "output_type": "stream",
     "text": [
      "15.5\n"
     ]
    }
   ],
   "source": [
    "a = [True, False, 10, 15.5, 21, \"janeth\", \"tobi\", 9, True]\n",
    "\n",
    "for i in a:\n",
    "    if type(i) == float:\n",
    "        print(i)"
   ]
  },
  {
   "cell_type": "code",
   "execution_count": 40,
   "id": "601ad24c",
   "metadata": {},
   "outputs": [
    {
     "name": "stdout",
     "output_type": "stream",
     "text": [
      "True\n"
     ]
    }
   ],
   "source": [
    "print(i)"
   ]
  },
  {
   "cell_type": "code",
   "execution_count": 41,
   "id": "919268c0",
   "metadata": {},
   "outputs": [
    {
     "name": "stdout",
     "output_type": "stream",
     "text": [
      "[True, False, True]\n"
     ]
    }
   ],
   "source": [
    "p = []\n",
    "for i in a:\n",
    "    if type(i) == bool:\n",
    "        p.append(i)\n",
    "        \n",
    "print(p)"
   ]
  },
  {
   "cell_type": "code",
   "execution_count": 42,
   "id": "27ae01e9",
   "metadata": {},
   "outputs": [
    {
     "name": "stdout",
     "output_type": "stream",
     "text": [
      "[True, False, True]\n"
     ]
    }
   ],
   "source": [
    "print(p)"
   ]
  },
  {
   "cell_type": "code",
   "execution_count": 43,
   "id": "eac9ce3f",
   "metadata": {},
   "outputs": [
    {
     "name": "stdout",
     "output_type": "stream",
     "text": [
      "[8, 5, 7, 3]\n"
     ]
    }
   ],
   "source": [
    "numb = [10, 16, 11, 8, 12, 5, 7, 3, 20]\n",
    "arr = []\n",
    "for i in numb:\n",
    "    if i < 10:\n",
    "        arr.append(i)\n",
    "print(arr)"
   ]
  },
  {
   "cell_type": "code",
   "execution_count": 44,
   "id": "c5d7dc9f",
   "metadata": {},
   "outputs": [
    {
     "name": "stdout",
     "output_type": "stream",
     "text": [
      "[11, 5, 7, 3]\n",
      "[10, 16, 8, 12, 20]\n"
     ]
    }
   ],
   "source": [
    "odd_numb = []\n",
    "even_numb = []\n",
    "\n",
    "for i in numb:\n",
    "    if i%2 == 0:\n",
    "        even_numb.append(i)\n",
    "    elif i%2 != 0:\n",
    "        odd_numb.append(i)\n",
    "        \n",
    "print(odd_numb)\n",
    "print(even_numb)"
   ]
  },
  {
   "cell_type": "code",
   "execution_count": 45,
   "id": "68064603",
   "metadata": {},
   "outputs": [
    {
     "name": "stdout",
     "output_type": "stream",
     "text": [
      "False\n"
     ]
    }
   ],
   "source": [
    "print(5%4 == 0)"
   ]
  },
  {
   "cell_type": "code",
   "execution_count": 46,
   "id": "1290ba52",
   "metadata": {},
   "outputs": [
    {
     "name": "stdout",
     "output_type": "stream",
     "text": [
      "True\n"
     ]
    }
   ],
   "source": [
    "print(10%3 == 1)"
   ]
  },
  {
   "cell_type": "code",
   "execution_count": 47,
   "id": "b4ae268f",
   "metadata": {},
   "outputs": [
    {
     "name": "stdout",
     "output_type": "stream",
     "text": [
      "False\n"
     ]
    }
   ],
   "source": [
    "print(11%5 == 0)"
   ]
  },
  {
   "cell_type": "code",
   "execution_count": 48,
   "id": "c00069d7",
   "metadata": {},
   "outputs": [
    {
     "name": "stdout",
     "output_type": "stream",
     "text": [
      "[10, 20, 11, 8, 10, 6, 1]\n"
     ]
    }
   ],
   "source": [
    "arrYs = [10, 20, 11, 8, 10, 6, 1]\n",
    "print(arrYs)"
   ]
  },
  {
   "cell_type": "code",
   "execution_count": 49,
   "id": "f3f4f6d6",
   "metadata": {},
   "outputs": [
    {
     "name": "stdout",
     "output_type": "stream",
     "text": [
      "10\n",
      "10\n"
     ]
    }
   ],
   "source": [
    "for i in arrYs:\n",
    "    if i == 10:\n",
    "        print(i)"
   ]
  },
  {
   "cell_type": "code",
   "execution_count": 50,
   "id": "c2d6733d",
   "metadata": {},
   "outputs": [
    {
     "name": "stdout",
     "output_type": "stream",
     "text": [
      "(0, 10)\n",
      "(1, 20)\n",
      "(2, 11)\n",
      "(3, 8)\n",
      "(4, 10)\n",
      "(5, 6)\n",
      "(6, 1)\n"
     ]
    }
   ],
   "source": [
    "for i in enumerate(arrYs):\n",
    "    print(i)"
   ]
  },
  {
   "cell_type": "code",
   "execution_count": 51,
   "id": "8f49aadc",
   "metadata": {},
   "outputs": [
    {
     "name": "stdout",
     "output_type": "stream",
     "text": [
      "0 10\n",
      "1 20\n",
      "2 11\n",
      "3 8\n",
      "4 10\n",
      "5 6\n",
      "6 1\n"
     ]
    }
   ],
   "source": [
    "for i, b in enumerate(arrYs):\n",
    "    print(i, b)"
   ]
  },
  {
   "cell_type": "code",
   "execution_count": 52,
   "id": "b39793b7",
   "metadata": {},
   "outputs": [
    {
     "name": "stdout",
     "output_type": "stream",
     "text": [
      "0\n",
      "4\n"
     ]
    }
   ],
   "source": [
    "for i, b in enumerate(arrYs):\n",
    "    if b == 10:\n",
    "        print(i)"
   ]
  },
  {
   "cell_type": "code",
   "execution_count": 53,
   "id": "143c90d3",
   "metadata": {},
   "outputs": [
    {
     "name": "stdout",
     "output_type": "stream",
     "text": [
      "0\n",
      "0\n"
     ]
    }
   ],
   "source": [
    "for i in arrYs:\n",
    "    if i == 10:\n",
    "        print(arrYs.index(i))"
   ]
  },
  {
   "cell_type": "code",
   "execution_count": 54,
   "id": "ae159212",
   "metadata": {},
   "outputs": [
    {
     "data": {
      "text/plain": [
       "0"
      ]
     },
     "execution_count": 54,
     "metadata": {},
     "output_type": "execute_result"
    }
   ],
   "source": [
    "####test\n",
    "z = [10, 10, 11, 2]\n",
    "z.index(10)"
   ]
  },
  {
   "cell_type": "code",
   "execution_count": 55,
   "id": "5bb1518a",
   "metadata": {},
   "outputs": [
    {
     "name": "stdout",
     "output_type": "stream",
     "text": [
      "0\n",
      "0\n"
     ]
    }
   ],
   "source": [
    "z = [10, 10, 11, 2]\n",
    "for i in z:\n",
    "    if i == 10:\n",
    "        #print(i)\n",
    "        print(z.index(10))"
   ]
  },
  {
   "cell_type": "code",
   "execution_count": 56,
   "id": "cdeef681",
   "metadata": {},
   "outputs": [
    {
     "name": "stdout",
     "output_type": "stream",
     "text": [
      "0 10\n",
      "1 10\n",
      "2 11\n",
      "3 2\n"
     ]
    }
   ],
   "source": [
    "for i, b in enumerate(z):\n",
    "    print(i, b)"
   ]
  },
  {
   "cell_type": "code",
   "execution_count": 57,
   "id": "2f3ea7d2",
   "metadata": {},
   "outputs": [
    {
     "name": "stdout",
     "output_type": "stream",
     "text": [
      "0\n",
      "1\n"
     ]
    }
   ],
   "source": [
    "for i, b in enumerate(z):\n",
    "    if b == 10:\n",
    "        print(i)"
   ]
  },
  {
   "cell_type": "code",
   "execution_count": 58,
   "id": "95756ed1",
   "metadata": {},
   "outputs": [
    {
     "name": "stdout",
     "output_type": "stream",
     "text": [
      "[0, 2, 6]\n"
     ]
    }
   ],
   "source": [
    "k = [5, 1, 5, 10, 11, 9, 5, 1]\n",
    "\n",
    "index_vals = []\n",
    "for i, b in enumerate(k):\n",
    "    if b == 5:\n",
    "        index_vals.append(i)\n",
    "print(index_vals)"
   ]
  },
  {
   "cell_type": "code",
   "execution_count": 59,
   "id": "09ef73c1",
   "metadata": {},
   "outputs": [
    {
     "data": {
      "text/plain": [
       "6"
      ]
     },
     "execution_count": 59,
     "metadata": {},
     "output_type": "execute_result"
    }
   ],
   "source": [
    "index_vals[2]"
   ]
  },
  {
   "cell_type": "code",
   "execution_count": 60,
   "id": "ed181730",
   "metadata": {},
   "outputs": [
    {
     "data": {
      "text/plain": [
       "[10, 11, 9]"
      ]
     },
     "execution_count": 60,
     "metadata": {},
     "output_type": "execute_result"
    }
   ],
   "source": [
    "k[index_vals[1]+1:index_vals[2]]"
   ]
  },
  {
   "cell_type": "markdown",
   "id": "2a08e643",
   "metadata": {},
   "source": [
    "# RANGE"
   ]
  },
  {
   "cell_type": "code",
   "execution_count": 62,
   "id": "4cd92e98",
   "metadata": {},
   "outputs": [
    {
     "name": "stdout",
     "output_type": "stream",
     "text": [
      "0 2\n",
      "1 3\n",
      "2 4\n",
      "3 5\n",
      "4 6\n",
      "5 7\n",
      "6 8\n",
      "7 9\n",
      "8 10\n",
      "9 11\n",
      "10 12\n"
     ]
    }
   ],
   "source": [
    "for i in range(0, 10+1):\n",
    "    print(i, i+2)"
   ]
  },
  {
   "cell_type": "code",
   "execution_count": 63,
   "id": "99c38c38",
   "metadata": {},
   "outputs": [
    {
     "name": "stdout",
     "output_type": "stream",
     "text": [
      "0\n",
      "1\n",
      "2\n",
      "3\n",
      "4\n",
      "5\n",
      "6\n",
      "7\n",
      "8\n",
      "9\n",
      "10\n"
     ]
    }
   ],
   "source": [
    "for i in range(0, 10+1):\n",
    "    print(i)"
   ]
  },
  {
   "cell_type": "code",
   "execution_count": 64,
   "id": "1b0cc67d",
   "metadata": {},
   "outputs": [
    {
     "name": "stdout",
     "output_type": "stream",
     "text": [
      "0\n",
      "1\n",
      "2\n",
      "3\n",
      "4\n",
      "5\n",
      "6\n",
      "7\n",
      "8\n",
      "9\n"
     ]
    }
   ],
   "source": [
    "for i in range(0, 10):\n",
    "    print(i)"
   ]
  },
  {
   "cell_type": "code",
   "execution_count": 65,
   "id": "e965f0b3",
   "metadata": {},
   "outputs": [
    {
     "name": "stdout",
     "output_type": "stream",
     "text": [
      "0 10\n",
      "1 12\n",
      "2 8\n",
      "3 6\n"
     ]
    }
   ],
   "source": [
    "arr =[10, 12 ,8, 6]\n",
    "for i in range(0, len(arr)):\n",
    "    print(i, arr[i])"
   ]
  },
  {
   "cell_type": "code",
   "execution_count": 66,
   "id": "f759f712",
   "metadata": {},
   "outputs": [
    {
     "name": "stdout",
     "output_type": "stream",
     "text": [
      "True\n"
     ]
    }
   ],
   "source": [
    "arr1 = [10, 15, 25, 30]\n",
    "arr2 = [14, 13, 17, 24]\n",
    "arr_diff = []\n",
    "if len(arr) == len(arr2):\n",
    "    for i in range(0, len(arr2)):\n",
    "        diff = arr2[i] - arr1[i]\n",
    "        arr_diff.append(diff)\n",
    "    print(True)\n"
   ]
  },
  {
   "cell_type": "code",
   "execution_count": 67,
   "id": "50258ab0",
   "metadata": {},
   "outputs": [
    {
     "name": "stdout",
     "output_type": "stream",
     "text": [
      "[4, -2, -8, -6]\n"
     ]
    }
   ],
   "source": [
    "arr1 = [10, 15, 25, 30]\n",
    "arr2 = [14, 13, 17, 24]\n",
    "arr_diff = []\n",
    "if len(arr1) == len(arr2):\n",
    "    for i in range(0, len(arr2)):\n",
    "        diff = arr2[i] - arr1[i]\n",
    "        arr_diff.append(diff)\n",
    "print(arr_diff)\n",
    "#else:\n",
    "   # print(False)\n",
    "#print(arr_diff)"
   ]
  },
  {
   "cell_type": "code",
   "execution_count": 68,
   "id": "d4ef89e0",
   "metadata": {},
   "outputs": [
    {
     "name": "stdout",
     "output_type": "stream",
     "text": [
      "jude, emmanuel\n",
      "caleb, denise\n",
      "hilda, joe\n",
      "denim, kelvin\n"
     ]
    }
   ],
   "source": [
    "names = [\"jude\", \"caleb\", \"hilda\", \"denim\"]\n",
    "surname =[\"emmanuel\", \"denise\", \"joe\", \"kelvin\"]\n",
    "for i in range(0, len(names)):\n",
    "    fullname = f\"{names[i]}, {surname[i]}\"\n",
    "    print(fullname)"
   ]
  },
  {
   "cell_type": "code",
   "execution_count": 71,
   "id": "0f08c05f",
   "metadata": {},
   "outputs": [
    {
     "name": "stdout",
     "output_type": "stream",
     "text": [
      "['jude, emmanuel', 'caleb, denise', 'hilda, joe', 'denim, kelvin']\n"
     ]
    }
   ],
   "source": [
    "names = [\"jude\", \"caleb\", \"hilda\", \"denim\"]\n",
    "surname =[\"emmanuel\", \"denise\", \"joe\", \"kelvin\"]\n",
    "all_name = []\n",
    "for i in range(0, len(names)):\n",
    "    fullname = f\"{names[i]}, {surname[i]}\"\n",
    "    #print(fullname)\n",
    "    all_name.append(fullname)\n",
    "print(all_name)"
   ]
  },
  {
   "cell_type": "markdown",
   "id": "d150dd6a",
   "metadata": {},
   "source": [
    "# Home_work"
   ]
  },
  {
   "cell_type": "code",
   "execution_count": 72,
   "id": "62f08de2",
   "metadata": {},
   "outputs": [],
   "source": [
    "names = [\"jenny\", \"obi\", \"duke\"]\n",
    "second_name = [\"yola\", \"tami\", \"philips\"]\n",
    "ans = [\"Jenny Yola\", \"Obi Tami\", \"Duke Philips\"]"
   ]
  },
  {
   "cell_type": "code",
   "execution_count": 73,
   "id": "fecd27ce",
   "metadata": {},
   "outputs": [
    {
     "name": "stdout",
     "output_type": "stream",
     "text": [
      "['Jenny Yola', 'Obi Tami', 'Duke Philips']\n"
     ]
    }
   ],
   "source": [
    "names = [\"jenny\", \"obi\", \"duke\"]\n",
    "second_name = [\"yola\", \"tami\", \"philips\"]\n",
    "arry_name = []\n",
    "for i in range(0, len(names)):\n",
    "    a = names[i][0].upper() + names[i][1:]\n",
    "    b = second_name[i][0].upper() + second_name[i][1:]\n",
    "    fullname = f\"{a} {b}\"\n",
    "    arry_name.append(fullname)\n",
    "print(arry_name)\n",
    "    "
   ]
  },
  {
   "cell_type": "code",
   "execution_count": 74,
   "id": "e2fa11ba",
   "metadata": {},
   "outputs": [
    {
     "name": "stdout",
     "output_type": "stream",
     "text": [
      "a\n",
      "i\n",
      "s\n"
     ]
    }
   ],
   "source": [
    "names = [\"jenny\", \"obi\", \"duke\"]\n",
    "second_name = [\"yola\", \"tami\", \"philips\"] \n",
    "ans = [\"jennY yolA\", \"obI tamI\", \"dukE philipS\"]\n",
    " \n",
    "for i in range(0, len(second_name)):\n",
    "    a = second_name[i][-1]\n",
    "    print(a)"
   ]
  },
  {
   "cell_type": "code",
   "execution_count": 75,
   "id": "f53f1f13",
   "metadata": {},
   "outputs": [
    {
     "name": "stdout",
     "output_type": "stream",
     "text": [
      "['jennY yolA', 'obI tamI', 'dukE philipS']\n"
     ]
    }
   ],
   "source": [
    "names = [\"jenny\", \"obi\", \"duke\"]\n",
    "second_name = [\"yola\", \"tami\", \"philips\"] \n",
    "ans = [\"jennY yolA\", \"obI tamI\", \"dukE philipS\"]\n",
    "arry2_name = []\n",
    "for i in range(0, len(names)):\n",
    "    a = names[i][:-1] + names[i][-1].upper()\n",
    "    b = second_name[i][:-1] + second_name[i][-1].upper()\n",
    "    fullname = f\"{a} {b}\"\n",
    "    arry2_name.append(fullname)\n",
    "print(arry2_name)\n",
    "    "
   ]
  },
  {
   "cell_type": "code",
   "execution_count": null,
   "id": "c854c990",
   "metadata": {},
   "outputs": [],
   "source": []
  }
 ],
 "metadata": {
  "kernelspec": {
   "display_name": "Python 3 (ipykernel)",
   "language": "python",
   "name": "python3"
  },
  "language_info": {
   "codemirror_mode": {
    "name": "ipython",
    "version": 3
   },
   "file_extension": ".py",
   "mimetype": "text/x-python",
   "name": "python",
   "nbconvert_exporter": "python",
   "pygments_lexer": "ipython3",
   "version": "3.9.7"
  }
 },
 "nbformat": 4,
 "nbformat_minor": 5
}
