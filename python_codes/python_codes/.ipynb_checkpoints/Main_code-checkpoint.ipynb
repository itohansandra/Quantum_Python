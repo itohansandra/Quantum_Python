{
 "cells": [
  {
   "cell_type": "code",
   "execution_count": 1,
   "id": "3aff6857",
   "metadata": {},
   "outputs": [
    {
     "name": "stdout",
     "output_type": "stream",
     "text": [
      "Hello class\n"
     ]
    }
   ],
   "source": [
    "print(\"Hello class\")"
   ]
  },
  {
   "cell_type": "code",
   "execution_count": 2,
   "id": "cc758063",
   "metadata": {},
   "outputs": [
    {
     "name": "stdout",
     "output_type": "stream",
     "text": [
      "<class 'str'>\n"
     ]
    }
   ],
   "source": [
    "print(type(\"hello class!\"))"
   ]
  },
  {
   "cell_type": "code",
   "execution_count": 3,
   "id": "ed4f00d5",
   "metadata": {},
   "outputs": [
    {
     "name": "stdout",
     "output_type": "stream",
     "text": [
      "my name is jake and i am 5 years old!\n"
     ]
    }
   ],
   "source": [
    "print(\"my name is jake and i am 5 years old!\")"
   ]
  },
  {
   "cell_type": "code",
   "execution_count": 4,
   "id": "8b1922f0",
   "metadata": {},
   "outputs": [
    {
     "name": "stdout",
     "output_type": "stream",
     "text": [
      "1051\n"
     ]
    }
   ],
   "source": [
    "print(\"10\" + \"51\")"
   ]
  },
  {
   "cell_type": "code",
   "execution_count": 5,
   "id": "aad77101",
   "metadata": {},
   "outputs": [
    {
     "name": "stdout",
     "output_type": "stream",
     "text": [
      "13.9\n"
     ]
    }
   ],
   "source": [
    "print(10.9 + 3)"
   ]
  },
  {
   "cell_type": "code",
   "execution_count": 6,
   "id": "c15ceda8",
   "metadata": {},
   "outputs": [
    {
     "name": "stdout",
     "output_type": "stream",
     "text": [
      "True\n"
     ]
    }
   ],
   "source": [
    "print(5==5)"
   ]
  },
  {
   "cell_type": "code",
   "execution_count": 7,
   "id": "06212303",
   "metadata": {},
   "outputs": [
    {
     "name": "stdout",
     "output_type": "stream",
     "text": [
      "True\n"
     ]
    }
   ],
   "source": [
    "print(10==(2*5))"
   ]
  },
  {
   "cell_type": "code",
   "execution_count": 8,
   "id": "8d2899fb",
   "metadata": {},
   "outputs": [
    {
     "name": "stdout",
     "output_type": "stream",
     "text": [
      "<class 'str'>\n"
     ]
    }
   ],
   "source": [
    "print(type(\"true\"))"
   ]
  },
  {
   "cell_type": "code",
   "execution_count": 9,
   "id": "c7c77500",
   "metadata": {},
   "outputs": [
    {
     "name": "stdout",
     "output_type": "stream",
     "text": [
      "<class 'bool'>\n"
     ]
    }
   ],
   "source": [
    "print(type(True))"
   ]
  },
  {
   "cell_type": "code",
   "execution_count": 10,
   "id": "dfecdb2d",
   "metadata": {},
   "outputs": [
    {
     "name": "stdout",
     "output_type": "stream",
     "text": [
      "<class 'float'>\n"
     ]
    }
   ],
   "source": [
    "print(type(10.01))"
   ]
  },
  {
   "cell_type": "code",
   "execution_count": 11,
   "id": "0aafef34",
   "metadata": {},
   "outputs": [
    {
     "name": "stdout",
     "output_type": "stream",
     "text": [
      "enter name: peter\n",
      "enter age: 45\n",
      "My name is, peter and i am 45 years old!\n"
     ]
    }
   ],
   "source": [
    "name = input(\"enter name: \")\n",
    "age = input(\"enter age: \")\n",
    "print(f\"My name is, {name} and i am {age} years old!\")"
   ]
  },
  {
   "cell_type": "code",
   "execution_count": 12,
   "id": "5d3aa0b4",
   "metadata": {},
   "outputs": [
    {
     "name": "stdout",
     "output_type": "stream",
     "text": [
      "26.926\n"
     ]
    }
   ],
   "source": [
    "a = 10\n",
    "b = 25\n",
    "##pythagoras theorem\n",
    "c = ((a**2) + (b**2))**(1/2)\n",
    "print(round(c, 3))"
   ]
  },
  {
   "cell_type": "code",
   "execution_count": 13,
   "id": "25c008b9",
   "metadata": {},
   "outputs": [
    {
     "name": "stdout",
     "output_type": "stream",
     "text": [
      "1.5874010519681994\n"
     ]
    }
   ],
   "source": [
    "print(4**(1/3))"
   ]
  },
  {
   "cell_type": "code",
   "execution_count": 15,
   "id": "fdba5466",
   "metadata": {},
   "outputs": [
    {
     "name": "stdout",
     "output_type": "stream",
     "text": [
      "enter name: john\n",
      "enter year of birth: 1995\n",
      "my name is john and i am 28.0 years old\n"
     ]
    }
   ],
   "source": [
    "name = input(\"enter name: \")\n",
    "yb = float(input(\"enter year of birth: \"))\n",
    "print(f\"my name is {name} and i am {2023-yb} years old\")"
   ]
  },
  {
   "cell_type": "markdown",
   "id": "da6d1237",
   "metadata": {},
   "source": [
    "# Conditionals"
   ]
  },
  {
   "cell_type": "code",
   "execution_count": 16,
   "id": "e6bc7578",
   "metadata": {},
   "outputs": [
    {
     "name": "stdout",
     "output_type": "stream",
     "text": [
      "enter tempearture value: 34\n",
      "tempertaure is high\n"
     ]
    }
   ],
   "source": [
    "temp = float(input(\"enter tempearture value: \"))\n",
    "\n",
    "if temp > 20:\n",
    "    print(\"tempertaure is high\")\n",
    "elif temp >=10 and temp <= 19:\n",
    "    print(\"temperature is moderate\")\n",
    "elif temp >=1 and temp <=9:\n",
    "    print(\"temperature is quite low\")\n",
    "elif temp <= 0:\n",
    "    print(\"extremeley deadly temperature\")\n",
    "else:\n",
    "    print(\"input not understood\")"
   ]
  },
  {
   "cell_type": "code",
   "execution_count": 17,
   "id": "7ed93c91",
   "metadata": {},
   "outputs": [
    {
     "name": "stdout",
     "output_type": "stream",
     "text": [
      "enter age: 45\n",
      "enter sex: m\n",
      "an adult male\n"
     ]
    }
   ],
   "source": [
    "age = int(input(\"enter age: \"))\n",
    "sex = input(\"enter sex: \").lower()\n",
    "\n",
    "if age >= 20:\n",
    "    if sex == \"f\":\n",
    "        print(\"an adult female\")\n",
    "    elif sex == \"m\":\n",
    "        print(\"an adult male\")\n",
    "        \n",
    "elif age >= 13 and age <= 19:\n",
    "    if sex == \"f\":\n",
    "        print(\"a teenage female\")\n",
    "    elif sex == \"m\":\n",
    "        print(\"a teenage male\")\n",
    "        \n",
    "elif age <= 12:\n",
    "    if sex == \"f\":\n",
    "        print(\"a child female\")\n",
    "    elif sex == \"m\":\n",
    "        print(\"a child male\")\n",
    "        \n",
    "else:\n",
    "    print(\"No input available\")"
   ]
  },
  {
   "cell_type": "markdown",
   "id": "7864c469",
   "metadata": {},
   "source": [
    "# Temperature conversion program"
   ]
  },
  {
   "cell_type": "code",
   "execution_count": 18,
   "id": "aaf50eb4",
   "metadata": {},
   "outputs": [
    {
     "name": "stdout",
     "output_type": "stream",
     "text": [
      "enter temperature value here: 5\n",
      "enter unit->f/c: c\n",
      "the temperature value of 5.0 celcius is 41.0 fahrenheit\n"
     ]
    }
   ],
   "source": [
    "temp_value = float(input(\"enter temperature value here: \"))\n",
    "unit = input(\"enter unit->f/c: \").lower()\n",
    "\n",
    "if unit == \"f\":\n",
    "    temp = (temp_value - 32) * (5/9)\n",
    "    if temp <= 100:\n",
    "        kel = 273 + temp\n",
    "        print(f\"the temperature value of {temp_value} fahrenhiet is {round(kel, 3)} kelvin\")\n",
    "    else:\n",
    "        print(f\"the temperature value of {temp_value} fahrenhiet is {round(temp, 3)} celcuis\")\n",
    "        \n",
    "elif unit == \"c\":\n",
    "    temp = (temp_value * (9/5)) + 32\n",
    "    print(f\"the temperature value of {temp_value} celcius is {round(temp, 3)} fahrenheit\")\n",
    "else:\n",
    "    print(\"input not understood\")"
   ]
  },
  {
   "cell_type": "markdown",
   "id": "ae8db41f",
   "metadata": {},
   "source": [
    "# List and Arrays"
   ]
  },
  {
   "cell_type": "code",
   "execution_count": 19,
   "id": "698dac57",
   "metadata": {},
   "outputs": [],
   "source": [
    "#x = True\n",
    "b = [\"ada\", \"tobi\", 25, True, False, \"james\", \"pedro\"]"
   ]
  },
  {
   "cell_type": "code",
   "execution_count": 20,
   "id": "92db1739",
   "metadata": {},
   "outputs": [
    {
     "data": {
      "text/plain": [
       "5"
      ]
     },
     "execution_count": 20,
     "metadata": {},
     "output_type": "execute_result"
    }
   ],
   "source": [
    "len(b[5])"
   ]
  },
  {
   "cell_type": "code",
   "execution_count": 21,
   "id": "d29485b2",
   "metadata": {},
   "outputs": [
    {
     "data": {
      "text/plain": [
       "[25, True, False, 'james', 'pedro']"
      ]
     },
     "execution_count": 21,
     "metadata": {},
     "output_type": "execute_result"
    }
   ],
   "source": [
    "b[2:]"
   ]
  },
  {
   "cell_type": "code",
   "execution_count": 22,
   "id": "5411aca8",
   "metadata": {},
   "outputs": [
    {
     "name": "stdout",
     "output_type": "stream",
     "text": [
      "<class 'list'>\n"
     ]
    }
   ],
   "source": [
    "print(type(b))"
   ]
  },
  {
   "cell_type": "code",
   "execution_count": 23,
   "id": "026f05a5",
   "metadata": {},
   "outputs": [
    {
     "data": {
      "text/plain": [
       "5"
      ]
     },
     "execution_count": 23,
     "metadata": {},
     "output_type": "execute_result"
    }
   ],
   "source": [
    "index_values = b.index(\"james\")\n",
    "index_values"
   ]
  },
  {
   "cell_type": "code",
   "execution_count": 24,
   "id": "d3285656",
   "metadata": {},
   "outputs": [
    {
     "name": "stdout",
     "output_type": "stream",
     "text": [
      "['ada', 'tobi', 25, True, False, 'james', 'pedro']\n"
     ]
    }
   ],
   "source": [
    "print(b)"
   ]
  },
  {
   "cell_type": "code",
   "execution_count": 25,
   "id": "920a142c",
   "metadata": {},
   "outputs": [
    {
     "name": "stdout",
     "output_type": "stream",
     "text": [
      "[True, False, 'james', 'pedro']\n"
     ]
    }
   ],
   "source": [
    "pos = b.index(25)\n",
    "after = b[pos+1:]\n",
    "print(after)"
   ]
  },
  {
   "cell_type": "code",
   "execution_count": 26,
   "id": "57151825",
   "metadata": {},
   "outputs": [
    {
     "name": "stdout",
     "output_type": "stream",
     "text": [
      "['ada', 'tobi']\n"
     ]
    }
   ],
   "source": [
    "before =  b[:pos]\n",
    "print(before)"
   ]
  },
  {
   "cell_type": "markdown",
   "id": "351eaf65",
   "metadata": {},
   "source": [
    "# class work"
   ]
  },
  {
   "cell_type": "raw",
   "id": "68c9433a",
   "metadata": {},
   "source": [
    "1. if the age to vote is from 18 and above\n",
    "2. and the condition to vote requires a pvc\n",
    "write a program that ask users for their age and if they have pvc if they do, grant them access to vote if they dont do not grant them access to vote\n",
    "question 2\n",
    "if the person is qualified to vote\n",
    "if the person is from south, east they should vote obi if the person is from north, south west vote asiwju vote atiku"
   ]
  },
  {
   "cell_type": "code",
   "execution_count": 61,
   "id": "fb8d3ebe",
   "metadata": {},
   "outputs": [
    {
     "name": "stdout",
     "output_type": "stream",
     "text": [
      "please Enter your age here: 4\n",
      "Enter True or False: t\n",
      "access denied to vote!!!\n"
     ]
    }
   ],
   "source": [
    "age = int(input(\"please Enter your age here: \"))\n",
    "pvc = bool(input(\"Enter True or False: \"))\n",
    "t = True\n",
    "f = False\n",
    "if age > 17 and pvc == t:\n",
    "    \n",
    "    print(\"access granted to vote\")\n",
    "    \n",
    "elif age >18 and pc == f:\n",
    "   \n",
    "    print(\"access denied to vote\")\n",
    "    \n",
    "else:\n",
    "    print(\"access denied to vote!!!\")\n",
    "\n"
   ]
  },
  {
   "cell_type": "raw",
   "id": "5fb0683f",
   "metadata": {},
   "source": [
    "1. if the age to vote is from 18 and above\n",
    "2. and the condition to vote requires a pvc\n",
    "write a program that ask users for their age and if they have pvc if they do, grant them access to vote if they dont do not grant them access to vote\n",
    "question 2\n",
    "if the person is qualified to vote\n",
    "if the person is from south, east they should vote obi if the person is from north, south west vote asiwju vote atiku"
   ]
  },
  {
   "cell_type": "code",
   "execution_count": 28,
   "id": "ebd73f08",
   "metadata": {},
   "outputs": [
    {
     "name": "stdout",
     "output_type": "stream",
     "text": [
      "enter age: 45\n",
      "do you have a pvc?: no\n",
      "where is voter from?: south-west\n",
      "access denied to vote!!!\n"
     ]
    }
   ],
   "source": [
    "age = int(input(\"enter age: \"))\n",
    "pvc = input(\"do you have a pvc?: \")\n",
    "voter = input(\"where is voter from?: \")\n",
    "\n",
    "if age >= 18 and pvc == \"yes\":\n",
    "    if voter == \"south-south\" or voter == \"east\":\n",
    "        print(\"vote obi\")\n",
    "    elif voter == \"north\" or voter == \"south-west\":\n",
    "        print(\"vote asiwaju!!!\")\n",
    "    else:\n",
    "        print(\"vote atiku\")\n",
    "    \n",
    "elif age < 18 and pvc == \"no\":\n",
    "    print(\"access denied to vote\")\n",
    "else:\n",
    "    print(\"access denied to vote!!!\")"
   ]
  },
  {
   "cell_type": "raw",
   "id": "0ab6a331",
   "metadata": {},
   "source": [
    "- if change in temperature of a house defines the \"livability\" of a house\n",
    "define t1 as input\n",
    "define t2 as input\n",
    "calculate the temperature change\n",
    "\n",
    "- if the temp is less than 0 celcius\n",
    "define kelvin by adding temperature + 273\n",
    "if temperature is greater than 500 kelvin say temperature is extremely low\n",
    "if temperature is less than 500 kelvin say temperature is moderately low\n",
    "\n",
    "\n",
    "- if the temp is greater than 0 celcius, say temperature is too high"
   ]
  },
  {
   "cell_type": "code",
   "execution_count": 29,
   "id": "79e2ec83",
   "metadata": {},
   "outputs": [
    {
     "name": "stdout",
     "output_type": "stream",
     "text": [
      "enter t1: 4\n",
      "enter t2: 7\n",
      "3.0celcuis: temperature is too high\n"
     ]
    }
   ],
   "source": [
    "t1 = float(input(\"enter t1: \"))\n",
    "t2 = float(input(\"enter t2: \"))\n",
    "temp = t2-t1\n",
    "\n",
    "if temp < 0:\n",
    "    kelvin = temp + 273\n",
    "    if kelvin > 500:\n",
    "        print(f\"{kelvin}kelvin: temperature is extremely low\")\n",
    "    elif kelvin < 500:\n",
    "        print(f\"{kelvin}kelvin: temperature is moderrately low\")\n",
    "        \n",
    "elif temp > 0:\n",
    "    print(f\"{temp}celcuis: temperature is too high\")\n",
    "    \n",
    "else:\n",
    "    print(\"inputs not understood!!!\")"
   ]
  },
  {
   "cell_type": "markdown",
   "id": "0eaf20a8",
   "metadata": {},
   "source": [
    "# Arrays"
   ]
  },
  {
   "cell_type": "raw",
   "id": "1d0f3c8b",
   "metadata": {},
   "source": [
    "- sort()\n",
    "- append()"
   ]
  },
  {
   "cell_type": "code",
   "execution_count": 30,
   "id": "143d8bd2",
   "metadata": {},
   "outputs": [
    {
     "name": "stdout",
     "output_type": "stream",
     "text": [
      "[1, 3, 5, 10]\n"
     ]
    }
   ],
   "source": [
    "a = [1, 5, 10, 3]\n",
    "a.sort()\n",
    "print(a)"
   ]
  },
  {
   "cell_type": "code",
   "execution_count": 31,
   "id": "41fb84dc",
   "metadata": {},
   "outputs": [],
   "source": [
    "b = [6, 9, 10, 11]"
   ]
  },
  {
   "cell_type": "code",
   "execution_count": 32,
   "id": "91b39045",
   "metadata": {},
   "outputs": [
    {
     "name": "stdout",
     "output_type": "stream",
     "text": [
      "[1, 3, 5, 10, 6, 9, 10, 11]\n"
     ]
    }
   ],
   "source": [
    "c = a + b\n",
    "print(c)"
   ]
  },
  {
   "cell_type": "code",
   "execution_count": 33,
   "id": "4b54a682",
   "metadata": {},
   "outputs": [
    {
     "name": "stdout",
     "output_type": "stream",
     "text": [
      "[1, 3, 5, 10, 6, 9, 10, 11, True]\n"
     ]
    }
   ],
   "source": [
    "c.append(True)\n",
    "print(c)"
   ]
  },
  {
   "cell_type": "code",
   "execution_count": 34,
   "id": "44b49da5",
   "metadata": {},
   "outputs": [
    {
     "name": "stdout",
     "output_type": "stream",
     "text": [
      "[1, 3, 5, 10, 6, 9, 10, 11, True, [5, 10, 11]]\n"
     ]
    }
   ],
   "source": [
    "k = [5, 10, 11]\n",
    "c.append(k)\n",
    "print(c)"
   ]
  },
  {
   "cell_type": "markdown",
   "id": "e34638dd",
   "metadata": {},
   "source": [
    "# forloops"
   ]
  },
  {
   "cell_type": "code",
   "execution_count": 35,
   "id": "18cf6187",
   "metadata": {},
   "outputs": [
    {
     "name": "stdout",
     "output_type": "stream",
     "text": [
      "2\n",
      "4\n",
      "7\n",
      "9\n",
      "3\n",
      "1\n"
     ]
    }
   ],
   "source": [
    "arr = [2, 4, 7, 9, 3, 1]\n",
    "for i in arr:\n",
    "    print(i)"
   ]
  },
  {
   "cell_type": "code",
   "execution_count": 36,
   "id": "56a45e8c",
   "metadata": {},
   "outputs": [
    {
     "name": "stdout",
     "output_type": "stream",
     "text": [
      "7\n",
      "9\n",
      "3\n",
      "1\n"
     ]
    }
   ],
   "source": [
    "for i in arr:\n",
    "    if i%2 != 0:\n",
    "        print(i)"
   ]
  },
  {
   "cell_type": "code",
   "execution_count": 37,
   "id": "dd4aac84",
   "metadata": {},
   "outputs": [
    {
     "name": "stdout",
     "output_type": "stream",
     "text": [
      "[2, 4]\n"
     ]
    }
   ],
   "source": [
    "arr1 = []\n",
    "arr2 = []\n",
    "for i in arr:\n",
    "    if i%2 != 0:\n",
    "        arr1.append(i)\n",
    "    if i%2 == 0:\n",
    "        arr2.append(i)\n",
    "print(arr2)"
   ]
  },
  {
   "cell_type": "code",
   "execution_count": 38,
   "id": "5c052698",
   "metadata": {},
   "outputs": [
    {
     "name": "stdout",
     "output_type": "stream",
     "text": [
      "True\n",
      "False\n",
      "10\n",
      "15.5\n",
      "21\n",
      "janeth\n",
      "tobi\n",
      "9\n",
      "True\n"
     ]
    }
   ],
   "source": [
    "a = [True, False, 10, 15.5, 21, \"janeth\", \"tobi\", 9, True]\n",
    "\n",
    "for i in a:\n",
    "    print(i)"
   ]
  },
  {
   "cell_type": "code",
   "execution_count": 39,
   "id": "20f49879",
   "metadata": {},
   "outputs": [
    {
     "name": "stdout",
     "output_type": "stream",
     "text": [
      "15.5\n"
     ]
    }
   ],
   "source": [
    "a = [True, False, 10, 15.5, 21, \"janeth\", \"tobi\", 9, True]\n",
    "\n",
    "for i in a:\n",
    "    if type(i) == float:\n",
    "        print(i)"
   ]
  },
  {
   "cell_type": "code",
   "execution_count": 40,
   "id": "601ad24c",
   "metadata": {},
   "outputs": [
    {
     "name": "stdout",
     "output_type": "stream",
     "text": [
      "True\n"
     ]
    }
   ],
   "source": [
    "print(i)"
   ]
  },
  {
   "cell_type": "code",
   "execution_count": 41,
   "id": "919268c0",
   "metadata": {},
   "outputs": [
    {
     "name": "stdout",
     "output_type": "stream",
     "text": [
      "[True, False, True]\n"
     ]
    }
   ],
   "source": [
    "p = []\n",
    "for i in a:\n",
    "    if type(i) == bool:\n",
    "        p.append(i)\n",
    "        \n",
    "print(p)"
   ]
  },
  {
   "cell_type": "code",
   "execution_count": 42,
   "id": "27ae01e9",
   "metadata": {},
   "outputs": [
    {
     "name": "stdout",
     "output_type": "stream",
     "text": [
      "[True, False, True]\n"
     ]
    }
   ],
   "source": [
    "print(p)"
   ]
  },
  {
   "cell_type": "code",
   "execution_count": 43,
   "id": "eac9ce3f",
   "metadata": {},
   "outputs": [
    {
     "name": "stdout",
     "output_type": "stream",
     "text": [
      "[8, 5, 7, 3]\n"
     ]
    }
   ],
   "source": [
    "numb = [10, 16, 11, 8, 12, 5, 7, 3, 20]\n",
    "arr = []\n",
    "for i in numb:\n",
    "    if i < 10:\n",
    "        arr.append(i)\n",
    "print(arr)"
   ]
  },
  {
   "cell_type": "code",
   "execution_count": 44,
   "id": "c5d7dc9f",
   "metadata": {},
   "outputs": [
    {
     "name": "stdout",
     "output_type": "stream",
     "text": [
      "[11, 5, 7, 3]\n",
      "[10, 16, 8, 12, 20]\n"
     ]
    }
   ],
   "source": [
    "odd_numb = []\n",
    "even_numb = []\n",
    "\n",
    "for i in numb:\n",
    "    if i%2 == 0:\n",
    "        even_numb.append(i)\n",
    "    elif i%2 != 0:\n",
    "        odd_numb.append(i)\n",
    "        \n",
    "print(odd_numb)\n",
    "print(even_numb)"
   ]
  },
  {
   "cell_type": "code",
   "execution_count": 45,
   "id": "68064603",
   "metadata": {},
   "outputs": [
    {
     "name": "stdout",
     "output_type": "stream",
     "text": [
      "False\n"
     ]
    }
   ],
   "source": [
    "print(5%4 == 0)"
   ]
  },
  {
   "cell_type": "code",
   "execution_count": 46,
   "id": "1290ba52",
   "metadata": {},
   "outputs": [
    {
     "name": "stdout",
     "output_type": "stream",
     "text": [
      "True\n"
     ]
    }
   ],
   "source": [
    "print(10%3 == 1)"
   ]
  },
  {
   "cell_type": "code",
   "execution_count": 47,
   "id": "b4ae268f",
   "metadata": {},
   "outputs": [
    {
     "name": "stdout",
     "output_type": "stream",
     "text": [
      "False\n"
     ]
    }
   ],
   "source": [
    "print(11%5 == 0)"
   ]
  },
  {
   "cell_type": "code",
   "execution_count": 48,
   "id": "c00069d7",
   "metadata": {},
   "outputs": [
    {
     "name": "stdout",
     "output_type": "stream",
     "text": [
      "[10, 20, 11, 8, 10, 6, 1]\n"
     ]
    }
   ],
   "source": [
    "arrYs = [10, 20, 11, 8, 10, 6, 1]\n",
    "print(arrYs)"
   ]
  },
  {
   "cell_type": "code",
   "execution_count": 49,
   "id": "f3f4f6d6",
   "metadata": {},
   "outputs": [
    {
     "name": "stdout",
     "output_type": "stream",
     "text": [
      "10\n",
      "10\n"
     ]
    }
   ],
   "source": [
    "for i in arrYs:\n",
    "    if i == 10:\n",
    "        print(i)"
   ]
  },
  {
   "cell_type": "code",
   "execution_count": 50,
   "id": "c2d6733d",
   "metadata": {},
   "outputs": [
    {
     "name": "stdout",
     "output_type": "stream",
     "text": [
      "(0, 10)\n",
      "(1, 20)\n",
      "(2, 11)\n",
      "(3, 8)\n",
      "(4, 10)\n",
      "(5, 6)\n",
      "(6, 1)\n"
     ]
    }
   ],
   "source": [
    "for i in enumerate(arrYs):\n",
    "    print(i)"
   ]
  },
  {
   "cell_type": "code",
   "execution_count": 51,
   "id": "8f49aadc",
   "metadata": {},
   "outputs": [
    {
     "name": "stdout",
     "output_type": "stream",
     "text": [
      "0 10\n",
      "1 20\n",
      "2 11\n",
      "3 8\n",
      "4 10\n",
      "5 6\n",
      "6 1\n"
     ]
    }
   ],
   "source": [
    "for i, b in enumerate(arrYs):\n",
    "    print(i, b)"
   ]
  },
  {
   "cell_type": "code",
   "execution_count": 52,
   "id": "b39793b7",
   "metadata": {},
   "outputs": [
    {
     "name": "stdout",
     "output_type": "stream",
     "text": [
      "0\n",
      "4\n"
     ]
    }
   ],
   "source": [
    "for i, b in enumerate(arrYs):\n",
    "    if b == 10:\n",
    "        print(i)"
   ]
  },
  {
   "cell_type": "code",
   "execution_count": 53,
   "id": "143c90d3",
   "metadata": {},
   "outputs": [
    {
     "name": "stdout",
     "output_type": "stream",
     "text": [
      "0\n",
      "0\n"
     ]
    }
   ],
   "source": [
    "for i in arrYs:\n",
    "    if i == 10:\n",
    "        print(arrYs.index(i))"
   ]
  },
  {
   "cell_type": "code",
   "execution_count": 54,
   "id": "ae159212",
   "metadata": {},
   "outputs": [
    {
     "data": {
      "text/plain": [
       "0"
      ]
     },
     "execution_count": 54,
     "metadata": {},
     "output_type": "execute_result"
    }
   ],
   "source": [
    "####test\n",
    "z = [10, 10, 11, 2]\n",
    "z.index(10)"
   ]
  },
  {
   "cell_type": "code",
   "execution_count": 55,
   "id": "5bb1518a",
   "metadata": {},
   "outputs": [
    {
     "name": "stdout",
     "output_type": "stream",
     "text": [
      "0\n",
      "0\n"
     ]
    }
   ],
   "source": [
    "z = [10, 10, 11, 2]\n",
    "for i in z:\n",
    "    if i == 10:\n",
    "        #print(i)\n",
    "        print(z.index(10))"
   ]
  },
  {
   "cell_type": "code",
   "execution_count": 56,
   "id": "cdeef681",
   "metadata": {},
   "outputs": [
    {
     "name": "stdout",
     "output_type": "stream",
     "text": [
      "0 10\n",
      "1 10\n",
      "2 11\n",
      "3 2\n"
     ]
    }
   ],
   "source": [
    "for i, b in enumerate(z):\n",
    "    print(i, b)"
   ]
  },
  {
   "cell_type": "code",
   "execution_count": 57,
   "id": "2f3ea7d2",
   "metadata": {},
   "outputs": [
    {
     "name": "stdout",
     "output_type": "stream",
     "text": [
      "0\n",
      "1\n"
     ]
    }
   ],
   "source": [
    "for i, b in enumerate(z):\n",
    "    if b == 10:\n",
    "        print(i)"
   ]
  },
  {
   "cell_type": "code",
   "execution_count": 58,
   "id": "95756ed1",
   "metadata": {},
   "outputs": [
    {
     "name": "stdout",
     "output_type": "stream",
     "text": [
      "[0, 2, 6]\n"
     ]
    }
   ],
   "source": [
    "k = [5, 1, 5, 10, 11, 9, 5, 1]\n",
    "\n",
    "index_vals = []\n",
    "for i, b in enumerate(k):\n",
    "    if b == 5:\n",
    "        index_vals.append(i)\n",
    "print(index_vals)"
   ]
  },
  {
   "cell_type": "code",
   "execution_count": 59,
   "id": "09ef73c1",
   "metadata": {},
   "outputs": [
    {
     "data": {
      "text/plain": [
       "6"
      ]
     },
     "execution_count": 59,
     "metadata": {},
     "output_type": "execute_result"
    }
   ],
   "source": [
    "index_vals[2]"
   ]
  },
  {
   "cell_type": "code",
   "execution_count": 60,
   "id": "ed181730",
   "metadata": {},
   "outputs": [
    {
     "data": {
      "text/plain": [
       "[10, 11, 9]"
      ]
     },
     "execution_count": 60,
     "metadata": {},
     "output_type": "execute_result"
    }
   ],
   "source": [
    "k[index_vals[1]+1:index_vals[2]]"
   ]
  },
  {
   "cell_type": "markdown",
   "id": "2a08e643",
   "metadata": {},
   "source": [
    "# RANGE"
   ]
  },
  {
   "cell_type": "code",
   "execution_count": 62,
   "id": "4cd92e98",
   "metadata": {},
   "outputs": [
    {
     "name": "stdout",
     "output_type": "stream",
     "text": [
      "0 2\n",
      "1 3\n",
      "2 4\n",
      "3 5\n",
      "4 6\n",
      "5 7\n",
      "6 8\n",
      "7 9\n",
      "8 10\n",
      "9 11\n",
      "10 12\n"
     ]
    }
   ],
   "source": [
    "for i in range(0, 10+1):\n",
    "    print(i, i+2)"
   ]
  },
  {
   "cell_type": "code",
   "execution_count": 63,
   "id": "99c38c38",
   "metadata": {},
   "outputs": [
    {
     "name": "stdout",
     "output_type": "stream",
     "text": [
      "0\n",
      "1\n",
      "2\n",
      "3\n",
      "4\n",
      "5\n",
      "6\n",
      "7\n",
      "8\n",
      "9\n",
      "10\n"
     ]
    }
   ],
   "source": [
    "for i in range(0, 10+1):\n",
    "    print(i)"
   ]
  },
  {
   "cell_type": "code",
   "execution_count": 64,
   "id": "1b0cc67d",
   "metadata": {},
   "outputs": [
    {
     "name": "stdout",
     "output_type": "stream",
     "text": [
      "0\n",
      "1\n",
      "2\n",
      "3\n",
      "4\n",
      "5\n",
      "6\n",
      "7\n",
      "8\n",
      "9\n"
     ]
    }
   ],
   "source": [
    "for i in range(0, 10):\n",
    "    print(i)"
   ]
  },
  {
   "cell_type": "code",
   "execution_count": 65,
   "id": "e965f0b3",
   "metadata": {},
   "outputs": [
    {
     "name": "stdout",
     "output_type": "stream",
     "text": [
      "0 10\n",
      "1 12\n",
      "2 8\n",
      "3 6\n"
     ]
    }
   ],
   "source": [
    "arr =[10, 12 ,8, 6]\n",
    "for i in range(0, len(arr)):\n",
    "    print(i, arr[i])"
   ]
  },
  {
   "cell_type": "code",
   "execution_count": 66,
   "id": "f759f712",
   "metadata": {},
   "outputs": [
    {
     "name": "stdout",
     "output_type": "stream",
     "text": [
      "True\n"
     ]
    }
   ],
   "source": [
    "arr1 = [10, 15, 25, 30]\n",
    "arr2 = [14, 13, 17, 24]\n",
    "arr_diff = []\n",
    "if len(arr) == len(arr2):\n",
    "    for i in range(0, len(arr2)):\n",
    "        diff = arr2[i] - arr1[i]\n",
    "        arr_diff.append(diff)\n",
    "    print(True)\n"
   ]
  },
  {
   "cell_type": "code",
   "execution_count": 67,
   "id": "50258ab0",
   "metadata": {},
   "outputs": [
    {
     "name": "stdout",
     "output_type": "stream",
     "text": [
      "[4, -2, -8, -6]\n"
     ]
    }
   ],
   "source": [
    "arr1 = [10, 15, 25, 30]\n",
    "arr2 = [14, 13, 17, 24]\n",
    "arr_diff = []\n",
    "if len(arr1) == len(arr2):\n",
    "    for i in range(0, len(arr2)):\n",
    "        diff = arr2[i] - arr1[i]\n",
    "        arr_diff.append(diff)\n",
    "print(arr_diff)\n",
    "#else:\n",
    "   # print(False)\n",
    "#print(arr_diff)"
   ]
  },
  {
   "cell_type": "code",
   "execution_count": 68,
   "id": "d4ef89e0",
   "metadata": {},
   "outputs": [
    {
     "name": "stdout",
     "output_type": "stream",
     "text": [
      "jude, emmanuel\n",
      "caleb, denise\n",
      "hilda, joe\n",
      "denim, kelvin\n"
     ]
    }
   ],
   "source": [
    "names = [\"jude\", \"caleb\", \"hilda\", \"denim\"]\n",
    "surname =[\"emmanuel\", \"denise\", \"joe\", \"kelvin\"]\n",
    "for i in range(0, len(names)):\n",
    "    fullname = f\"{names[i]}, {surname[i]}\"\n",
    "    print(fullname)"
   ]
  },
  {
   "cell_type": "code",
   "execution_count": 71,
   "id": "0f08c05f",
   "metadata": {},
   "outputs": [
    {
     "name": "stdout",
     "output_type": "stream",
     "text": [
      "['jude, emmanuel', 'caleb, denise', 'hilda, joe', 'denim, kelvin']\n"
     ]
    }
   ],
   "source": [
    "names = [\"jude\", \"caleb\", \"hilda\", \"denim\"]\n",
    "surname =[\"emmanuel\", \"denise\", \"joe\", \"kelvin\"]\n",
    "all_name = []\n",
    "for i in range(0, len(names)):\n",
    "    fullname = f\"{names[i]}, {surname[i]}\"\n",
    "    #print(fullname)\n",
    "    all_name.append(fullname)\n",
    "print(all_name)"
   ]
  },
  {
   "cell_type": "markdown",
   "id": "d150dd6a",
   "metadata": {},
   "source": [
    "# Home_work"
   ]
  },
  {
   "cell_type": "code",
   "execution_count": 72,
   "id": "62f08de2",
   "metadata": {},
   "outputs": [],
   "source": [
    "names = [\"jenny\", \"obi\", \"duke\"]\n",
    "second_name = [\"yola\", \"tami\", \"philips\"]\n",
    "ans = [\"Jenny Yola\", \"Obi Tami\", \"Duke Philips\"]"
   ]
  },
  {
   "cell_type": "code",
   "execution_count": 73,
   "id": "fecd27ce",
   "metadata": {},
   "outputs": [
    {
     "name": "stdout",
     "output_type": "stream",
     "text": [
      "['Jenny Yola', 'Obi Tami', 'Duke Philips']\n"
     ]
    }
   ],
   "source": [
    "names = [\"jenny\", \"obi\", \"duke\"]\n",
    "second_name = [\"yola\", \"tami\", \"philips\"]\n",
    "arry_name = []\n",
    "for i in range(0, len(names)):\n",
    "    a = names[i][0].upper() + names[i][1:]\n",
    "    b = second_name[i][0].upper() + second_name[i][1:]\n",
    "    fullname = f\"{a} {b}\"\n",
    "    arry_name.append(fullname)\n",
    "print(arry_name)\n",
    "    "
   ]
  },
  {
   "cell_type": "code",
   "execution_count": 74,
   "id": "e2fa11ba",
   "metadata": {},
   "outputs": [
    {
     "name": "stdout",
     "output_type": "stream",
     "text": [
      "a\n",
      "i\n",
      "s\n"
     ]
    }
   ],
   "source": [
    "names = [\"jenny\", \"obi\", \"duke\"]\n",
    "second_name = [\"yola\", \"tami\", \"philips\"] \n",
    "ans = [\"jennY yolA\", \"obI tamI\", \"dukE philipS\"]\n",
    " \n",
    "for i in range(0, len(second_name)):\n",
    "    a = second_name[i][-1]\n",
    "    print(a)"
   ]
  },
  {
   "cell_type": "code",
   "execution_count": 75,
   "id": "f53f1f13",
   "metadata": {},
   "outputs": [
    {
     "name": "stdout",
     "output_type": "stream",
     "text": [
      "['jennY yolA', 'obI tamI', 'dukE philipS']\n"
     ]
    }
   ],
   "source": [
    "names = [\"jenny\", \"obi\", \"duke\"]\n",
    "second_name = [\"yola\", \"tami\", \"philips\"] \n",
    "ans = [\"jennY yolA\", \"obI tamI\", \"dukE philipS\"]\n",
    "arry2_name = []\n",
    "for i in range(0, len(names)):\n",
    "    a = names[i][:-1] + names[i][-1].upper()\n",
    "    b = second_name[i][:-1] + second_name[i][-1].upper()\n",
    "    fullname = f\"{a} {b}\"\n",
    "    arry2_name.append(fullname)\n",
    "print(arry2_name)\n",
    "    "
   ]
  },
  {
   "cell_type": "code",
   "execution_count": 1,
   "id": "c854c990",
   "metadata": {},
   "outputs": [
    {
     "name": "stdout",
     "output_type": "stream",
     "text": [
      "10\n",
      "30\n",
      "50\n",
      "90\n",
      "111\n"
     ]
    }
   ],
   "source": [
    " arr = [10, 20, 20, 40, 21]\n",
    "b = 0\n",
    "for i in arr:\n",
    "    b = i + b\n",
    "    print(b)# printing inside the loo"
   ]
  },
  {
   "cell_type": "code",
   "execution_count": 2,
   "id": "6d4e2a2c",
   "metadata": {},
   "outputs": [
    {
     "name": "stdout",
     "output_type": "stream",
     "text": [
      "111\n"
     ]
    }
   ],
   "source": [
    "arr = [10, 20, 20, 40, 21]\n",
    "b = 0\n",
    "for i in arr:\n",
    "    b = i + b\n",
    "print(b)# To print only the last number in the arr, you remove the print from the loop"
   ]
  },
  {
   "cell_type": "code",
   "execution_count": 3,
   "id": "5fbbea26",
   "metadata": {},
   "outputs": [
    {
     "name": "stdout",
     "output_type": "stream",
     "text": [
      "10\n",
      "20\n",
      "20\n",
      "40\n",
      "21\n"
     ]
    }
   ],
   "source": [
    "arr = [10, 20, 20, 40, 21]\n",
    "b = 0\n",
    "for i in arr:\n",
    "    print(i + b)# is not store inside the b\n",
    "    "
   ]
  },
  {
   "cell_type": "code",
   "execution_count": 4,
   "id": "aa631024",
   "metadata": {},
   "outputs": [
    {
     "name": "stdout",
     "output_type": "stream",
     "text": [
      "5\n"
     ]
    }
   ],
   "source": [
    "arr = [10, 20, 20, 40, 21]\n",
    "n = len(arr)\n",
    "print(n)"
   ]
  },
  {
   "cell_type": "code",
   "execution_count": 5,
   "id": "88f409b2",
   "metadata": {},
   "outputs": [
    {
     "name": "stdout",
     "output_type": "stream",
     "text": [
      "22.2\n"
     ]
    }
   ],
   "source": [
    "arr = [10, 20, 20, 40, 21]\n",
    "n = len(arr)\n",
    "b = 0\n",
    "for i in arr:\n",
    "    b = i + b\n",
    "mean_val = b/n\n",
    "print(mean_val)"
   ]
  },
  {
   "cell_type": "code",
   "execution_count": 6,
   "id": "c44342d7",
   "metadata": {},
   "outputs": [
    {
     "name": "stdout",
     "output_type": "stream",
     "text": [
      "[10, 20, 20, 21, 40, 45, 56, 70]\n"
     ]
    }
   ],
   "source": [
    "arr = [10, 20, 20, 40, 21, 45,56,70]\n",
    "arr.sort()\n",
    "print(arr)"
   ]
  },
  {
   "cell_type": "code",
   "execution_count": 7,
   "id": "e55d2c9e",
   "metadata": {},
   "outputs": [
    {
     "name": "stdout",
     "output_type": "stream",
     "text": [
      "30.5\n"
     ]
    }
   ],
   "source": [
    "mid = int(len(arr)/2)\n",
    "if len(arr)%2 == 0:\n",
    "    mid2 = mid - 1\n",
    "    median = (arr[mid] + arr[mid2])/2\n",
    "    print(median)\n",
    "else:\n",
    "    median = arr[mid]\n",
    "    print(median)"
   ]
  },
  {
   "cell_type": "code",
   "execution_count": 8,
   "id": "dcb7cc66",
   "metadata": {},
   "outputs": [
    {
     "name": "stdout",
     "output_type": "stream",
     "text": [
      "4\n"
     ]
    }
   ],
   "source": [
    "mid = int(len(arr)/2)\n",
    "print(mid)"
   ]
  },
  {
   "cell_type": "code",
   "execution_count": 9,
   "id": "272162d0",
   "metadata": {},
   "outputs": [
    {
     "name": "stdout",
     "output_type": "stream",
     "text": [
      "3\n"
     ]
    }
   ],
   "source": [
    "mid2 = mid - 1\n",
    "print(mid2)"
   ]
  },
  {
   "cell_type": "code",
   "execution_count": 10,
   "id": "ca83da9a",
   "metadata": {},
   "outputs": [
    {
     "name": "stdout",
     "output_type": "stream",
     "text": [
      "30.5\n"
     ]
    }
   ],
   "source": [
    "mid = int(len(arr)/2)\n",
    "if len(arr)%2 == 0:\n",
    "    mid2 = mid - 1\n",
    "    median = (arr[mid] + arr[mid2])/2\n",
    "    print(median)"
   ]
  },
  {
   "cell_type": "code",
   "execution_count": 11,
   "id": "59f3c7e3",
   "metadata": {},
   "outputs": [
    {
     "name": "stdout",
     "output_type": "stream",
     "text": [
      "[10, 16, 20, 22]\n"
     ]
    }
   ],
   "source": [
    "arr_val = [10, 16, 20, 22]\n",
    "arr_val.sort()\n",
    "print(arr_val)"
   ]
  },
  {
   "cell_type": "code",
   "execution_count": 12,
   "id": "eb3b6248",
   "metadata": {},
   "outputs": [
    {
     "name": "stdout",
     "output_type": "stream",
     "text": [
      "4\n"
     ]
    }
   ],
   "source": [
    "mid = int(len(arr_val))\n",
    "print(mid)"
   ]
  },
  {
   "cell_type": "code",
   "execution_count": 13,
   "id": "0626851d",
   "metadata": {},
   "outputs": [
    {
     "name": "stdout",
     "output_type": "stream",
     "text": [
      "2\n"
     ]
    }
   ],
   "source": [
    "arr_val = [10, 16, 20, 22]\n",
    "mid = int(len(arr_val)/2)\n",
    "print(mid)"
   ]
  },
  {
   "cell_type": "code",
   "execution_count": 14,
   "id": "1d5973f7",
   "metadata": {},
   "outputs": [
    {
     "name": "stdout",
     "output_type": "stream",
     "text": [
      "18.0\n"
     ]
    }
   ],
   "source": [
    "mid = int(len(arr_val)/2)\n",
    "if len(arr)%2 == 0:\n",
    "    mid2 = mid - 1\n",
    "    median = (arr_val[mid] + arr_val[mid2])/2\n",
    "    print(median)"
   ]
  },
  {
   "cell_type": "code",
   "execution_count": 15,
   "id": "658cb7b3",
   "metadata": {},
   "outputs": [
    {
     "name": "stdout",
     "output_type": "stream",
     "text": [
      "10\n",
      "26\n",
      "46\n",
      "68\n"
     ]
    }
   ],
   "source": [
    "b = 0\n",
    "for i in arr_val:\n",
    "    b = i + b\n",
    "    print(b)"
   ]
  },
  {
   "cell_type": "code",
   "execution_count": 16,
   "id": "2b414974",
   "metadata": {},
   "outputs": [
    {
     "name": "stdout",
     "output_type": "stream",
     "text": [
      "68\n"
     ]
    }
   ],
   "source": [
    "b = 0\n",
    "for i in arr_val:\n",
    "    b = i + b\n",
    "print(b)"
   ]
  },
  {
   "cell_type": "code",
   "execution_count": 17,
   "id": "28620377",
   "metadata": {},
   "outputs": [
    {
     "name": "stdout",
     "output_type": "stream",
     "text": [
      "[58, 52, 48, 46]\n"
     ]
    }
   ],
   "source": [
    "arr_diff = []\n",
    "for i in arr_val:\n",
    "    j = b - i\n",
    "    arr_diff.append(j)\n",
    "print(arr_diff)"
   ]
  },
  {
   "cell_type": "code",
   "execution_count": 18,
   "id": "58d63d25",
   "metadata": {},
   "outputs": [
    {
     "name": "stdout",
     "output_type": "stream",
     "text": [
      "[58, 52, 48, 46]\n"
     ]
    }
   ],
   "source": [
    "arr_diff = []\n",
    "b = 0\n",
    "for i in arr_val:\n",
    "    b = b + i\n",
    "for i in arr_val:\n",
    "    j = b - i\n",
    "    arr_diff.append(j)\n",
    "print(arr_diff)"
   ]
  },
  {
   "cell_type": "code",
   "execution_count": 19,
   "id": "ee8642a3",
   "metadata": {},
   "outputs": [
    {
     "name": "stdout",
     "output_type": "stream",
     "text": [
      "[58, 52, 48, 46]\n"
     ]
    }
   ],
   "source": [
    "arr_diff = []\n",
    "b = 0\n",
    "for i in arr_val:\n",
    "    b = b + i\n",
    "for i in arr_val:\n",
    "    j = b-i\n",
    "    arr_diff.append(j)\n",
    "print(arr_diff)"
   ]
  },
  {
   "cell_type": "code",
   "execution_count": 20,
   "id": "2fd7f014",
   "metadata": {},
   "outputs": [
    {
     "name": "stdout",
     "output_type": "stream",
     "text": [
      "17.0\n"
     ]
    }
   ],
   "source": [
    "arr_val = [10, 16, 20, 22]\n",
    "n = len(arr_val)\n",
    "b = 0\n",
    "for i in arr_val:\n",
    "    b = i + b\n",
    "mean_val = b/n\n",
    "print(mean_val)"
   ]
  },
  {
   "cell_type": "code",
   "execution_count": 22,
   "id": "f30c6fae",
   "metadata": {},
   "outputs": [
    {
     "name": "stdout",
     "output_type": "stream",
     "text": [
      "james\n",
      "10\n",
      "11\n",
      "constance\n",
      "tobi\n",
      "22.5\n",
      "jeremiah\n"
     ]
    }
   ],
   "source": [
    "arr = [\"james\", 10, 11, \"constance\", \"tobi\", 22.5, \"jeremiah\"]\n",
    "for i in arr:\n",
    "    print(i)"
   ]
  },
  {
   "cell_type": "code",
   "execution_count": 23,
   "id": "85278d29",
   "metadata": {},
   "outputs": [
    {
     "name": "stdout",
     "output_type": "stream",
     "text": [
      "69.5\n"
     ]
    }
   ],
   "source": [
    "arr = [\"james\", 10, 11, \"constance\", \"tobi\", 22.5, \"jeremiah\"]\n",
    "val = []\n",
    "for i in arr:\n",
    "    if type(i) == str:\n",
    "        str_len = len(i)\n",
    "        val.append(str_len)\n",
    "    else:\n",
    "        val.append(i)\n",
    "b = 0\n",
    "for i in val:\n",
    "    b = i + b\n",
    "print(b)\n",
    "    "
   ]
  },
  {
   "cell_type": "code",
   "execution_count": 24,
   "id": "0760bb05",
   "metadata": {},
   "outputs": [
    {
     "name": "stdout",
     "output_type": "stream",
     "text": [
      "117.0\n"
     ]
    }
   ],
   "source": [
    "arr3 = [\"tami\", \"claire\", 25, 10, \"jose\", 12.5]\n",
    "\n",
    "for i in arr3:\n",
    "    if type(i) == int or type(i) == float:\n",
    "        b = i + b\n",
    "print(b)"
   ]
  },
  {
   "cell_type": "code",
   "execution_count": 25,
   "id": "897fbcff",
   "metadata": {},
   "outputs": [
    {
     "name": "stdout",
     "output_type": "stream",
     "text": [
      "2\n",
      "9\n",
      "11\n"
     ]
    }
   ],
   "source": [
    "arr1 = [10, 15, 21]\n",
    "arr2 = [8, 6, 10]\n",
    "if len(arr1) == len(arr2):\n",
    "    for i in range(0, len(arr1)):\n",
    "        a = arr1[i] - arr2[i]\n",
    "        print(a)\n",
    "else:\n",
    "    print(\"unequal length\") or print(\"equal lenght\")\n",
    "    "
   ]
  },
  {
   "cell_type": "code",
   "execution_count": 26,
   "id": "dccc5370",
   "metadata": {},
   "outputs": [
    {
     "name": "stdout",
     "output_type": "stream",
     "text": [
      "2\n",
      "9\n",
      "21\n"
     ]
    }
   ],
   "source": [
    "arr1 = [10, 15, 21]\n",
    "arr2 = [8, 6,]\n",
    "if len(arr1) == len(arr2):\n",
    "    for i in range(0, len(arr1)):\n",
    "        a = arr1[i] - arr2[i]\n",
    "        print(a)\n",
    "else:\n",
    "    k = len(arr1) -len(arr2)\n",
    "    for i in range(k):\n",
    "        arr2.append(0)\n",
    "    for i in range(0, len(arr1)):\n",
    "        d = arr1[i] - arr2[i]\n",
    "        print(d)"
   ]
  },
  {
   "cell_type": "code",
   "execution_count": 27,
   "id": "0ff8fe79",
   "metadata": {},
   "outputs": [
    {
     "name": "stdout",
     "output_type": "stream",
     "text": [
      "-2\n",
      "-9\n",
      "10\n",
      "8\n",
      "11\n"
     ]
    }
   ],
   "source": [
    "arr1 = [10, 15]\n",
    "arr2 = [8, 6, 10, 8, 11]\n",
    "if len(arr2) == len(arr1):\n",
    "    for i in range(0, len(arr2)):\n",
    "        a = arr2[i] - arr1[i]\n",
    "        print(a)\n",
    "else:\n",
    "    k = len(arr2) -len(arr1)\n",
    "    for i in range(k):\n",
    "        arr1.append(0)\n",
    "    for i in range(0, len(arr2)):\n",
    "        d = arr2[i] - arr1[i]\n",
    "        print(d)"
   ]
  },
  {
   "cell_type": "code",
   "execution_count": 28,
   "id": "dffc3006",
   "metadata": {},
   "outputs": [
    {
     "name": "stdout",
     "output_type": "stream",
     "text": [
      "-3\n"
     ]
    }
   ],
   "source": [
    "arr1 = [10, 15]\n",
    "arr2 = [8, 6, 10, 8, 11]\n",
    "k = len(arr1) - len(arr2)\n",
    "print(k)"
   ]
  },
  {
   "cell_type": "code",
   "execution_count": 29,
   "id": "8939d6d1",
   "metadata": {},
   "outputs": [
    {
     "name": "stdout",
     "output_type": "stream",
     "text": [
      "3\n"
     ]
    }
   ],
   "source": [
    "arr1 = [10, 15]\n",
    "arr2 = [8, 6, 10, 8, 11]\n",
    "k = int(str(len(arr1) - len(arr2))[1])\n",
    "print(k)"
   ]
  },
  {
   "cell_type": "markdown",
   "id": "039bf011",
   "metadata": {},
   "source": [
    "# FACTORIAL CALCULATOR"
   ]
  },
  {
   "cell_type": "code",
   "execution_count": 30,
   "id": "b17ee1ed",
   "metadata": {},
   "outputs": [
    {
     "name": "stdout",
     "output_type": "stream",
     "text": [
      "24\n"
     ]
    }
   ],
   "source": [
    "#k =10!\n",
    "fact = 4\n",
    "b = 1\n",
    "for i in range(0+1, fact+1):\n",
    "    b = i*b\n",
    "print(b)"
   ]
  },
  {
   "cell_type": "code",
   "execution_count": 31,
   "id": "3c8f86d6",
   "metadata": {},
   "outputs": [
    {
     "name": "stdout",
     "output_type": "stream",
     "text": [
      "enter factorial_vals: 5\n",
      "120\n"
     ]
    }
   ],
   "source": [
    "fact = int(input(\"enter factorial_vals: \"))\n",
    "if type(fact) == int:\n",
    "    b = 1\n",
    "    for i in range(0+1, fact+1):\n",
    "        b = i * b\n",
    "    print(b)\n",
    "else:\n",
    "    print(\"Note factorialable!!!\")"
   ]
  },
  {
   "cell_type": "code",
   "execution_count": 34,
   "id": "bb1cab83",
   "metadata": {},
   "outputs": [
    {
     "name": "stdout",
     "output_type": "stream",
     "text": [
      "enter the value of (a! = 0): 2\n",
      "enter the value of b: 5\n",
      "enter the value of c: 6\n",
      "the values of:  (-1.25-1.1989578808281798j) (-1.25+1.1989578808281798j)\n"
     ]
    }
   ],
   "source": [
    "import cmath\n",
    "a = int(input(\"enter the value of (a! = 0): \")) #when a is not equals to zero\n",
    "b = int(input(\"enter the value of b: \"))\n",
    "c = int(input(\"enter the value of c: \"))\n",
    "\n",
    "# to find disccriminants\n",
    "\n",
    "d = (b**2) - (4*a*c)\n",
    "\n",
    "#to find the roots\n",
    "x1 = ((-b-cmath.sqrt(d)) / (2*a))\n",
    "x2 = ((-b+cmath.sqrt(d)) / (2*a))\n",
    "print(\"the values of: \", x1,x2)"
   ]
  },
  {
   "cell_type": "code",
   "execution_count": 35,
   "id": "aed38211",
   "metadata": {},
   "outputs": [
    {
     "name": "stdout",
     "output_type": "stream",
     "text": [
      "74\n"
     ]
    }
   ],
   "source": [
    "distrb = [1, 2, 7, 8, 9, 11, 21, 15]\n",
    "sum_val = 0\n",
    "for i in distrb:\n",
    "    sum_val = i + sum_val\n",
    "print(sum_val) # the sum sum symbol is E"
   ]
  },
  {
   "cell_type": "code",
   "execution_count": 36,
   "id": "38038807",
   "metadata": {},
   "outputs": [
    {
     "name": "stdout",
     "output_type": "stream",
     "text": [
      "9.25\n"
     ]
    }
   ],
   "source": [
    "mean_val = round(sum_val/len(distrb),3)\n",
    "print(mean_val) # mean symbol is M"
   ]
  },
  {
   "cell_type": "code",
   "execution_count": 37,
   "id": "790df8ef",
   "metadata": {},
   "outputs": [
    {
     "name": "stdout",
     "output_type": "stream",
     "text": [
      "[68.062, 52.562, 5.062, 1.562, 0.062, 3.062, 138.062, 33.062]\n"
     ]
    }
   ],
   "source": [
    "arr_distrb =[]\n",
    "for i in distrb:\n",
    "    dist = round((i - mean_val)**2, 3)\n",
    "    arr_distrb.append(dist)\n",
    "print(arr_distrb)"
   ]
  },
  {
   "cell_type": "code",
   "execution_count": 38,
   "id": "c9e2fe60",
   "metadata": {},
   "outputs": [
    {
     "name": "stdout",
     "output_type": "stream",
     "text": [
      "301.496\n"
     ]
    }
   ],
   "source": [
    "sum_distrb = 0\n",
    "for i in arr_distrb:\n",
    "    sum_distrb = i + sum_distrb\n",
    "print(sum_distrb)"
   ]
  },
  {
   "cell_type": "code",
   "execution_count": 39,
   "id": "8b65cbd0",
   "metadata": {},
   "outputs": [
    {
     "name": "stdout",
     "output_type": "stream",
     "text": [
      "37.687\n"
     ]
    }
   ],
   "source": [
    "mean_distrb = sum_distrb/len(distrb)\n",
    "print(mean_distrb)"
   ]
  },
  {
   "cell_type": "code",
   "execution_count": 40,
   "id": "e0cdfdde",
   "metadata": {},
   "outputs": [
    {
     "name": "stdout",
     "output_type": "stream",
     "text": [
      "6.139\n"
     ]
    }
   ],
   "source": [
    "std_dev = round(mean_distrb**(1/2),3)\n",
    "print(std_dev)"
   ]
  },
  {
   "cell_type": "markdown",
   "id": "9416b61a",
   "metadata": {},
   "source": [
    "# FUNCTIONS"
   ]
  },
  {
   "cell_type": "code",
   "execution_count": null,
   "id": "71056d1d",
   "metadata": {},
   "outputs": [],
   "source": [
    "# - Re-usbale block of codes"
   ]
  },
  {
   "cell_type": "code",
   "execution_count": null,
   "id": "9f4777a2",
   "metadata": {},
   "outputs": [],
   "source": [
    "# y(x) = 2x + 1\n",
    "# y(2) = 2*2 +1 = 5\n",
    "# y = 5"
   ]
  },
  {
   "cell_type": "code",
   "execution_count": 41,
   "id": "f134fab8",
   "metadata": {},
   "outputs": [
    {
     "name": "stdout",
     "output_type": "stream",
     "text": [
      "5\n"
     ]
    }
   ],
   "source": [
    "x = 2\n",
    "b = (2 * x) + 1\n",
    "print(b)"
   ]
  },
  {
   "cell_type": "code",
   "execution_count": 42,
   "id": "a7fe35de",
   "metadata": {},
   "outputs": [
    {
     "name": "stdout",
     "output_type": "stream",
     "text": [
      "17\n"
     ]
    }
   ],
   "source": [
    "def y_function(x):\n",
    "    b = (2 * x) + 1\n",
    "    return b\n",
    "\n",
    "print(y_function(x=8))"
   ]
  },
  {
   "cell_type": "code",
   "execution_count": 43,
   "id": "481af07b",
   "metadata": {},
   "outputs": [],
   "source": [
    "arr_val = [2, 10, 11, 6, 9]"
   ]
  },
  {
   "cell_type": "code",
   "execution_count": 44,
   "id": "0a52dd23",
   "metadata": {},
   "outputs": [
    {
     "name": "stdout",
     "output_type": "stream",
     "text": [
      "38\n"
     ]
    }
   ],
   "source": [
    "sum_val = 0\n",
    "for i in arr_val:\n",
    "    sum_val = i + sum_val\n",
    "print(sum_val)"
   ]
  },
  {
   "cell_type": "code",
   "execution_count": 45,
   "id": "8c8cc085",
   "metadata": {},
   "outputs": [
    {
     "name": "stdout",
     "output_type": "stream",
     "text": [
      "64\n"
     ]
    }
   ],
   "source": [
    "def sum_arr(x):\n",
    "    sum_val = 0\n",
    "    for i in x:\n",
    "        sum_val = i + sum_val\n",
    "    return sum_val\n",
    "\n",
    "arr_val = [15, 2, 10, 11, 6, 9, 11]\n",
    "print(sum_arr(x=arr_val))"
   ]
  },
  {
   "cell_type": "code",
   "execution_count": null,
   "id": "ae00de8b",
   "metadata": {},
   "outputs": [],
   "source": [
    "###write a program that can can get the max value in array and divide it by the minimum value in that array"
   ]
  },
  {
   "cell_type": "code",
   "execution_count": 46,
   "id": "db941a27",
   "metadata": {},
   "outputs": [],
   "source": [
    "arr_val = [2, 10, 11, 6, 9, 21, 13, 16, 7]"
   ]
  },
  {
   "cell_type": "code",
   "execution_count": 47,
   "id": "72e0f830",
   "metadata": {},
   "outputs": [
    {
     "name": "stdout",
     "output_type": "stream",
     "text": [
      "2\n"
     ]
    }
   ],
   "source": [
    "def minimum_val(x):\n",
    "    x.sort()\n",
    "    min_val = x[0]\n",
    "    return min_val\n",
    "\n",
    "min_ = minimum_val(x=arr_val)\n",
    "print(min_)"
   ]
  },
  {
   "cell_type": "code",
   "execution_count": 48,
   "id": "bb318978",
   "metadata": {},
   "outputs": [
    {
     "name": "stdout",
     "output_type": "stream",
     "text": [
      "21\n"
     ]
    }
   ],
   "source": [
    "def maximum_val(x):\n",
    "    x.sort()\n",
    "    max_val = x[-1]\n",
    "    return max_val\n",
    "\n",
    "max_ = maximum_val(x=arr_val)\n",
    "print(max_)"
   ]
  },
  {
   "cell_type": "code",
   "execution_count": 49,
   "id": "2fee11cd",
   "metadata": {},
   "outputs": [
    {
     "name": "stdout",
     "output_type": "stream",
     "text": [
      "10.5\n"
     ]
    }
   ],
   "source": [
    "print(max_/min_)"
   ]
  },
  {
   "cell_type": "code",
   "execution_count": 51,
   "id": "9f0d96d9",
   "metadata": {},
   "outputs": [
    {
     "name": "stdout",
     "output_type": "stream",
     "text": [
      " john is a boy\n"
     ]
    }
   ],
   "source": [
    "def minimum_value(x):\n",
    "    return f\" john is a {x}\"\n",
    "\n",
    "print(minimum_value(x=\"boy\"))"
   ]
  },
  {
   "cell_type": "code",
   "execution_count": 52,
   "id": "58d784db",
   "metadata": {},
   "outputs": [
    {
     "name": "stdout",
     "output_type": "stream",
     "text": [
      "21\n"
     ]
    }
   ],
   "source": [
    "arr_val = [2, 10, 11, 6, 9, 21, 13, 16, 7]\n",
    "arr_val.sort()\n",
    "print(arr_val[-1])"
   ]
  },
  {
   "cell_type": "code",
   "execution_count": 53,
   "id": "5a1263a6",
   "metadata": {},
   "outputs": [
    {
     "data": {
      "text/plain": [
       "7"
      ]
     },
     "execution_count": 53,
     "metadata": {},
     "output_type": "execute_result"
    }
   ],
   "source": [
    "def arr_maximum(arr_val):\n",
    "    arr_val.sort()\n",
    "    max_val = arr_val[-1]\n",
    "    return max_val\n",
    "\n",
    "x = [6, 7, 1, 3, 2]\n",
    "arr_maximum(arr_val=x)"
   ]
  },
  {
   "cell_type": "code",
   "execution_count": 54,
   "id": "a296e8db",
   "metadata": {},
   "outputs": [
    {
     "data": {
      "text/plain": [
       "1"
      ]
     },
     "execution_count": 54,
     "metadata": {},
     "output_type": "execute_result"
    }
   ],
   "source": [
    "def arr_maximum(arr_val):\n",
    "    arr_val.sort()\n",
    "    min_val = arr_val[0]\n",
    "    return min_val\n",
    "\n",
    "x = [6, 7, 1, 3, 2]\n",
    "arr_maximum(arr_val=x)"
   ]
  },
  {
   "cell_type": "code",
   "execution_count": 55,
   "id": "e30c48ee",
   "metadata": {},
   "outputs": [
    {
     "name": "stdout",
     "output_type": "stream",
     "text": [
      "7.0\n"
     ]
    }
   ],
   "source": [
    "arr = [1, 10, 6, 7, 11]\n",
    "\n",
    "sum_val = 0\n",
    "for i in arr:\n",
    "    sum_val = i + sum_val\n",
    "#print(sum_val)\n",
    "mean_val = sum_val/len(arr)\n",
    "print(mean_val)"
   ]
  },
  {
   "cell_type": "code",
   "execution_count": 56,
   "id": "8406bdcf",
   "metadata": {},
   "outputs": [
    {
     "data": {
      "text/plain": [
       "9.167"
      ]
     },
     "execution_count": 56,
     "metadata": {},
     "output_type": "execute_result"
    }
   ],
   "source": [
    "def mean_val(arr):\n",
    "    sum_val = 0\n",
    "    for i in arr:\n",
    "        sum_val = i + sum_val\n",
    "\n",
    "    mean_val = sum_val/len(arr)\n",
    "    return round(mean_val, 3)\n",
    "\n",
    "p = [8, 16, 12, 13, 2, 4]\n",
    "mean_val(arr=p)"
   ]
  },
  {
   "cell_type": "code",
   "execution_count": 57,
   "id": "c9a9f4d0",
   "metadata": {},
   "outputs": [],
   "source": [
    "name1 = [\"george\",  \"philip\", \"katty\"]\n",
    "name2 = [\"akpan\", \"odiegwu\", \"johnson\"]\n",
    "\n",
    "#==> [George Akpan, Philip Odiegwu, Katty Johnson]"
   ]
  },
  {
   "cell_type": "code",
   "execution_count": 58,
   "id": "f9552cf0",
   "metadata": {},
   "outputs": [
    {
     "name": "stdout",
     "output_type": "stream",
     "text": [
      "['George Akpan', 'Philip Odiegwu', 'Katty Johnson']\n"
     ]
    }
   ],
   "source": [
    "final_names = []\n",
    "for i in range(0, len(name1)):\n",
    "    name1_ = name1[i][0].upper() + name1[i][1:]\n",
    "    name2_ = name2[i][0].upper() + name2[i][1:]\n",
    "    fullnames = f\"{name1_} {name2_}\"\n",
    "    final_names.append(fullnames)\n",
    "print(final_names)"
   ]
  },
  {
   "cell_type": "code",
   "execution_count": 60,
   "id": "d205cacc",
   "metadata": {},
   "outputs": [],
   "source": [
    "def get_names(name1, name2):\n",
    "    final_names = []\n",
    "    for i in range(0, len(name1)):\n",
    "        name1_ = name1[i][0].upper() + name1[i][1:]\n",
    "        name2_ = name2[i][0].upper() + name2[i][1:]\n",
    "        fullnames = f\"{name1_} {name2_}\"\n",
    "        final_names.append(fullnames)\n",
    "    return final_names"
   ]
  },
  {
   "cell_type": "code",
   "execution_count": 61,
   "id": "c92b007f",
   "metadata": {},
   "outputs": [
    {
     "data": {
      "text/plain": [
       "['John Lenin', 'Zazi Faith']"
      ]
     },
     "execution_count": 61,
     "metadata": {},
     "output_type": "execute_result"
    }
   ],
   "source": [
    "a = [\"john\", \"zazi\"]\n",
    "b = [\"lenin\", \"faith\"]\n",
    "get_names(name1=a, name2=b)"
   ]
  },
  {
   "cell_type": "code",
   "execution_count": 62,
   "id": "392830b8",
   "metadata": {},
   "outputs": [],
   "source": [
    "###write a function that will calculate the factorial of any integer\n",
    "### write a function that will calculate the number of vowel sound in a string"
   ]
  },
  {
   "cell_type": "code",
   "execution_count": 63,
   "id": "53652878",
   "metadata": {},
   "outputs": [],
   "source": [
    "# \"aeiou\"\n",
    "# str_val = \"mathew\"\n",
    "# return 2"
   ]
  },
  {
   "cell_type": "code",
   "execution_count": 66,
   "id": "cd9af3fe",
   "metadata": {},
   "outputs": [
    {
     "name": "stdout",
     "output_type": "stream",
     "text": [
      "Enter number: 40\n",
      "815915283247897734345611269596115894272000000000\n"
     ]
    }
   ],
   "source": [
    "def fact(n):\n",
    "    if n < 0:\n",
    "        return 'does not exist'# factorial doesn't exist because n is less than 0\n",
    "    elif n == 0:\n",
    "        return 1 # factorial exist because n is greater than 0 \n",
    "    else:\n",
    "        return n * fact(n-1)\n",
    "fact_val = int(input(\"Enter number: \"))\n",
    "print(fact(fact_val))"
   ]
  },
  {
   "cell_type": "code",
   "execution_count": 65,
   "id": "f99ce238",
   "metadata": {},
   "outputs": [
    {
     "name": "stdout",
     "output_type": "stream",
     "text": [
      "2\n"
     ]
    }
   ],
   "source": [
    "vowels = [\"a\", \"e\", \"i\", \"o\", \"u\"]\n",
    "found_vowels = []\n",
    "for i in \"jane\":\n",
    "    if i in vowels:\n",
    "        found_vowels.append(i)\n",
    "print(len(found_vowels))"
   ]
  },
  {
   "cell_type": "code",
   "execution_count": 67,
   "id": "40d8915e",
   "metadata": {},
   "outputs": [
    {
     "data": {
      "text/plain": [
       "2"
      ]
     },
     "execution_count": 67,
     "metadata": {},
     "output_type": "execute_result"
    }
   ],
   "source": [
    "def count_vowels(x):\n",
    "    found_vowels = []\n",
    "    vowels = \"aeiou\"\n",
    "    v_val = \"_\".join(vowels)\n",
    "    new_val = v_val.split(\"_\")\n",
    "    for i in x:\n",
    "        if i in vowels:\n",
    "            found_vowels.append(i)\n",
    "    return len(found_vowels)\n",
    "count_vowels(x =\"jane\")"
   ]
  },
  {
   "cell_type": "code",
   "execution_count": 68,
   "id": "af0ffbb9",
   "metadata": {},
   "outputs": [
    {
     "data": {
      "text/plain": [
       "3"
      ]
     },
     "execution_count": 68,
     "metadata": {},
     "output_type": "execute_result"
    }
   ],
   "source": [
    "def number_vowels(x):\n",
    "    vowels = [\"a\", \"e\", \"i\", \"o\", \"u\"]\n",
    "    found_vowels = []\n",
    "    for i in  x:\n",
    "        if i in vowels:\n",
    "            found_vowels.append(i)\n",
    "    return len(found_vowels)\n",
    "number_vowels(x= \"ibiso\")"
   ]
  },
  {
   "cell_type": "code",
   "execution_count": 69,
   "id": "9939fe3d",
   "metadata": {},
   "outputs": [
    {
     "name": "stdout",
     "output_type": "stream",
     "text": [
      "['s', 'b', 'i', 'o']\n"
     ]
    }
   ],
   "source": [
    "b = \"ibiso\"\n",
    "c = list(set(b))\n",
    "print(c)"
   ]
  },
  {
   "cell_type": "code",
   "execution_count": 70,
   "id": "964e8171",
   "metadata": {},
   "outputs": [
    {
     "data": {
      "text/plain": [
       "2"
      ]
     },
     "execution_count": 70,
     "metadata": {},
     "output_type": "execute_result"
    }
   ],
   "source": [
    "def number_vowels(x):\n",
    "    vowels = [\"a\", \"e\", \"i\", \"o\", \"u\"]\n",
    "    found_vowels = []\n",
    "    for i in  x:\n",
    "        if i in vowels:\n",
    "            found_vowels.append(i)\n",
    "    count_list = list(set(found_vowels))\n",
    "    return len(count_list)\n",
    "number_vowels(x= \"ibiso\")"
   ]
  },
  {
   "cell_type": "code",
   "execution_count": 71,
   "id": "5ff31896",
   "metadata": {},
   "outputs": [
    {
     "data": {
      "text/plain": [
       "{'b', 'i', 'o', 's'}"
      ]
     },
     "execution_count": 71,
     "metadata": {},
     "output_type": "execute_result"
    }
   ],
   "source": [
    "x = [\"i\", \"b\", \"i\", \"s\", \"o\"]\n",
    "set(x)"
   ]
  },
  {
   "cell_type": "markdown",
   "id": "54510cfd",
   "metadata": {},
   "source": [
    "# list comprehension"
   ]
  },
  {
   "cell_type": "code",
   "execution_count": 72,
   "id": "5606033e",
   "metadata": {},
   "outputs": [
    {
     "name": "stdout",
     "output_type": "stream",
     "text": [
      "[4, 10, 4]\n"
     ]
    }
   ],
   "source": [
    "arr = [1, 3, 4, 10, 4]\n",
    "k = []\n",
    "for i in arr:\n",
    "    if i%2 == 0:\n",
    "        k.append(i)\n",
    "print(k)"
   ]
  },
  {
   "cell_type": "code",
   "execution_count": 73,
   "id": "331b6726",
   "metadata": {},
   "outputs": [
    {
     "name": "stdout",
     "output_type": "stream",
     "text": [
      "[4, 10, 4]\n",
      "[1, 3]\n"
     ]
    }
   ],
   "source": [
    "a = [i for i in arr if i%2 == 0]\n",
    "b = [i for i in arr if i%2 != 0]\n",
    "print(a)\n",
    "print(b)"
   ]
  },
  {
   "cell_type": "code",
   "execution_count": 74,
   "id": "cfa24c85",
   "metadata": {},
   "outputs": [
    {
     "name": "stdout",
     "output_type": "stream",
     "text": [
      "[1, 3, 4, 10, 4]\n"
     ]
    }
   ],
   "source": [
    "print(arr)"
   ]
  },
  {
   "cell_type": "code",
   "execution_count": 75,
   "id": "274ab168",
   "metadata": {},
   "outputs": [
    {
     "name": "stdout",
     "output_type": "stream",
     "text": [
      "[2.0, 3.16, 2.0]\n"
     ]
    }
   ],
   "source": [
    "j = [round((i**(1/2)), 2) for i in arr  if i%2 == 0]\n",
    "print(j)"
   ]
  },
  {
   "cell_type": "code",
   "execution_count": 76,
   "id": "8a441cd3",
   "metadata": {},
   "outputs": [
    {
     "name": "stdout",
     "output_type": "stream",
     "text": [
      "[[8, 2.0, 2.0], [20, 5.0, 3.1622776601683795], [8, 2.0, 2.0]]\n"
     ]
    }
   ],
   "source": [
    "d = [[i*2, i/2, (i**(1/2))] for i in arr if i%2 == 0]\n",
    "print(d)"
   ]
  },
  {
   "cell_type": "code",
   "execution_count": 77,
   "id": "8dc168e8",
   "metadata": {},
   "outputs": [
    {
     "name": "stdout",
     "output_type": "stream",
     "text": [
      "[8, 2.0, 2.0]\n",
      "[20, 5.0, 3.1622776601683795]\n",
      "[8, 2.0, 2.0]\n"
     ]
    }
   ],
   "source": [
    "for i in d:\n",
    "    print(i)"
   ]
  },
  {
   "cell_type": "code",
   "execution_count": 78,
   "id": "ba873823",
   "metadata": {},
   "outputs": [],
   "source": [
    "#write a function that can count the strings in an array and arrange from the highest count to the lowest counts\n",
    "# arr_str = [\"ubong\", \"eyo\", \"johnson\", 'mina']\n",
    "# ===> [\"johnson\", \"ubong\", \"mina\", \"eyo\"]"
   ]
  },
  {
   "cell_type": "code",
   "execution_count": 80,
   "id": "992e3075",
   "metadata": {},
   "outputs": [
    {
     "name": "stdout",
     "output_type": "stream",
     "text": [
      "['Ubong', 'Eyo', 'Mina', 'Johnson']\n"
     ]
    }
   ],
   "source": [
    "arr_str = [\"Ubong\", \"Eyo\", \"Johnson\", \"Mina\"]\n",
    "arr_list = list(set(arr_str)) \n",
    "print(arr_list)"
   ]
  },
  {
   "cell_type": "code",
   "execution_count": null,
   "id": "819afa36",
   "metadata": {},
   "outputs": [],
   "source": []
  }
 ],
 "metadata": {
  "kernelspec": {
   "display_name": "Python 3 (ipykernel)",
   "language": "python",
   "name": "python3"
  },
  "language_info": {
   "codemirror_mode": {
    "name": "ipython",
    "version": 3
   },
   "file_extension": ".py",
   "mimetype": "text/x-python",
   "name": "python",
   "nbconvert_exporter": "python",
   "pygments_lexer": "ipython3",
   "version": "3.9.13"
  }
 },
 "nbformat": 4,
 "nbformat_minor": 5
}
